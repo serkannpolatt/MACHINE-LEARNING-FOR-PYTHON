{
 "cells": [
  {
   "cell_type": "code",
   "execution_count": 17,
   "id": "32b7d02d-aca7-4c56-848f-052c5e4dad89",
   "metadata": {},
   "outputs": [],
   "source": [
    "import pandas as pd\n",
    "import matplotlib.pyplot as plt\n",
    "import math\n",
    "import numpy as np"
   ]
  },
  {
   "cell_type": "code",
   "execution_count": 2,
   "id": "ccd58b68-e483-4eba-9034-e4cd23577c4d",
   "metadata": {},
   "outputs": [],
   "source": [
    "data = pd.read_csv(\"linear-regression-dataset.csv\")"
   ]
  },
  {
   "cell_type": "code",
   "execution_count": 3,
   "id": "8782341f-7dad-48da-bdba-c5c2f4efe69d",
   "metadata": {},
   "outputs": [
    {
     "name": "stdout",
     "output_type": "stream",
     "text": [
      "<class 'pandas.core.frame.DataFrame'>\n",
      "RangeIndex: 14 entries, 0 to 13\n",
      "Data columns (total 2 columns):\n",
      " #   Column   Non-Null Count  Dtype  \n",
      "---  ------   --------------  -----  \n",
      " 0   deneyim  14 non-null     float64\n",
      " 1   maas     14 non-null     int64  \n",
      "dtypes: float64(1), int64(1)\n",
      "memory usage: 352.0 bytes\n",
      "None\n"
     ]
    }
   ],
   "source": [
    "print(data.info())"
   ]
  },
  {
   "cell_type": "code",
   "execution_count": 5,
   "id": "cf79b17a-5cd4-4cc9-a9dc-144d86d91b44",
   "metadata": {},
   "outputs": [
    {
     "name": "stdout",
     "output_type": "stream",
     "text": [
      "   deneyim  maas\n",
      "0      0.5  2500\n",
      "1      0.0  2250\n",
      "2      1.0  2750\n",
      "3      5.0  8000\n",
      "4      8.0  9000\n"
     ]
    }
   ],
   "source": [
    "print(data.head())"
   ]
  },
  {
   "cell_type": "code",
   "execution_count": 6,
   "id": "bd85e618-15c2-4dfe-8e61-aa49ed1f4802",
   "metadata": {},
   "outputs": [
    {
     "name": "stdout",
     "output_type": "stream",
     "text": [
      "         deneyim          maas\n",
      "count  14.000000     14.000000\n",
      "mean    6.250000   8778.571429\n",
      "std     4.979767   5733.495185\n",
      "min     0.000000   2250.000000\n",
      "25%     2.250000   4125.000000\n",
      "50%     5.500000   7750.000000\n",
      "75%     9.500000  12000.000000\n",
      "max    15.000000  20000.000000\n"
     ]
    }
   ],
   "source": [
    "print(data.describe())"
   ]
  },
  {
   "cell_type": "code",
   "execution_count": 7,
   "id": "a753e9f2-c7ad-4889-a9cb-278f9ce6479c",
   "metadata": {},
   "outputs": [
    {
     "data": {
      "image/png": "[encoded data removed]",
      "text/plain": [
       "<Figure size 432x288 with 1 Axes>"
      ]
     },
     "metadata": {
      "needs_background": "light"
     },
     "output_type": "display_data"
    }
   ],
   "source": [
    "plt.scatter(data.deneyim,data.maas)\n",
    "plt.xlabel(\"deneyim\")\n",
    "plt.ylabel(\"maas\")\n",
    "plt.show()"
   ]
  },
  {
   "cell_type": "code",
   "execution_count": 8,
   "id": "da81dcf4-7e63-4d98-99bc-43e84e48e6b0",
   "metadata": {},
   "outputs": [],
   "source": [
    "from sklearn.linear_model import LinearRegression"
   ]
  },
  {
   "cell_type": "code",
   "execution_count": 13,
   "id": "c4478835-5e4d-478e-a692-cc54bcd6ff9c",
   "metadata": {},
   "outputs": [],
   "source": [
    "# linear regression model\n",
    "linear_reg = LinearRegression()"
   ]
  },
  {
   "cell_type": "code",
   "execution_count": 14,
   "id": "e721836b-4c7e-45a9-9563-6f895c961290",
   "metadata": {},
   "outputs": [
    {
     "data": {
      "text/plain": [
       "LinearRegression()"
      ]
     },
     "execution_count": 14,
     "metadata": {},
     "output_type": "execute_result"
    }
   ],
   "source": [
    "x = data.deneyim.values.reshape(-1,1)\n",
    "y = data.maas.values.reshape(-1,1)\n",
    "linear_reg.fit(x,y)"
   ]
  },
  {
   "cell_type": "code",
   "execution_count": 15,
   "id": "61b4fe2d-e158-4f0a-b8c8-a0d91337102b",
   "metadata": {},
   "outputs": [
    {
     "name": "stdout",
     "output_type": "stream",
     "text": [
      "R sq:  0.9775283164949902\n",
      "Correlation:  0.9887003168275967\n"
     ]
    }
   ],
   "source": [
    "print('R sq: ', linear_reg.score(x, y))\n",
    "print('Correlation: ', math.sqrt(linear_reg.score(x, y)))"
   ]
  },
  {
   "cell_type": "code",
   "execution_count": 18,
   "id": "50691507-ac3b-4ad9-8e8c-d8572860517e",
   "metadata": {},
   "outputs": [
    {
     "name": "stdout",
     "output_type": "stream",
     "text": [
      "Coefficient for X:  [[1138.34819698]]\n",
      "Intercept for X:  [1663.89519747]\n",
      "Regression line is: y = 1663.895197474103 + (x * 1138.3481969755721)\n"
     ]
    }
   ],
   "source": [
    "#prediction\n",
    "print(\"Coefficient for X: \", linear_reg.coef_)\n",
    "print(\"Intercept for X: \", linear_reg.intercept_)\n",
    "print(\"Regression line is: y = \" + str(linear_reg.intercept_[0]) + \" + (x * \" + str(linear_reg.coef_[0][0]) + \")\")"
   ]
  },
  {
   "cell_type": "code",
   "execution_count": 19,
   "id": "4db9efa4-81f9-4648-b4c8-f8917293871f",
   "metadata": {},
   "outputs": [
    {
     "name": "stdout",
     "output_type": "stream",
     "text": [
      "14181\n",
      "[[14185.72536421]]\n"
     ]
    }
   ],
   "source": [
    "# maas = 1663 + 1138*deneyim \n",
    "maas_yeni = 1663 + 1138*11\n",
    "print(maas_yeni)\n",
    "\n",
    "array = np.array([11]).reshape(-1,1)\n",
    "print(linear_reg.predict(array))"
   ]
  },
  {
   "cell_type": "code",
   "execution_count": 20,
   "id": "7727a8cd-0d14-494b-8d16-3c0b22e175ac",
   "metadata": {},
   "outputs": [
    {
     "data": {
      "text/plain": [
       "array([[115498.71489503]])"
      ]
     },
     "execution_count": 20,
     "metadata": {},
     "output_type": "execute_result"
    },
    {
     "data": {
      "image/png": "[encoded data removed]",
      "text/plain": [
       "<Figure size 432x288 with 1 Axes>"
      ]
     },
     "metadata": {
      "needs_background": "light"
     },
     "output_type": "display_data"
    }
   ],
   "source": [
    "# visualize line\n",
    "array = np.array([0,1,2,3,4,5,6,7,8,9,10,11,12,13,14,15]).reshape(-1,1)  # deneyim\n",
    "\n",
    "plt.scatter(x,y)\n",
    "#plt.show()\n",
    "y_head = linear_reg.predict(array)  # maas\n",
    "plt.plot(array, y_head,color = \"red\")\n",
    "array = np.array([100]).reshape(-1,1)\n",
    "linear_reg.predict(array)"
   ]
  },
  {
   "cell_type": "code",
   "execution_count": 21,
   "id": "02eade74-9025-4965-af69-679e353c9d3d",
   "metadata": {},
   "outputs": [
    {
     "name": "stdout",
     "output_type": "stream",
     "text": [
      "r_square score:  0.9775283164949902\n"
     ]
    }
   ],
   "source": [
    "y_head = linear_reg.predict(x)  # maas\n",
    "from sklearn.metrics import r2_score\n",
    "print(\"r_square score: \", r2_score(y,y_head))"
   ]
  },
  {
   "cell_type": "code",
   "execution_count": null,
   "id": "8105c1ac-7692-48f2-a94a-569f80cdc1c8",
   "metadata": {},
   "outputs": [],
   "source": []
  },
  {
   "cell_type": "code",
   "execution_count": null,
   "id": "4e848dbd-fcd6-4ffe-b06c-656e54851c5d",
   "metadata": {},
   "outputs": [],
   "source": []
  },
  {
   "cell_type": "code",
   "execution_count": null,
   "id": "2ddcfcd8-4712-41bb-add2-09399b35cc34",
   "metadata": {},
   "outputs": [],
   "source": []
  },
  {
   "cell_type": "code",
   "execution_count": 22,
   "id": "f6ef3c87-977c-4e80-bcd2-53eeb09b1fe7",
   "metadata": {},
   "outputs": [],
   "source": [
    "import seaborn as sns\n",
    "import pandas as pd\n",
    "import matplotlib.pyplot as plt\n",
    "import numpy as np\n",
    "\n",
    "\n",
    "data=sns.load_dataset(\"tips\")\n",
    "df=pd.DataFrame(data)\n",
    "\n",
    "#EKSİK VERİ DOLDURMA\n",
    "from sklearn.impute import SimpleImputer\n",
    "import numpy as np\n",
    "\n",
    "imputer=SimpleImputer(missing_values=np.nan, strategy=\"mean\") #eksik verileri boş sütünlarına ortalamasını verdik\n",
    "imputer=imputer.fit(df[[\"total_bill\"]])\n",
    "df[[\"total_bill\"]]=imputer.transform(df[[\"total_bill\"]])\n",
    "\n",
    "#KATEGORİK OLMAYAN DEĞİŞKENLER\n",
    "total_bill=df[[\"total_bill\"]]\n",
    "tip=df[[\"tip\"]]\n",
    "size=df[[\"size\"]]\n",
    "\n",
    "#KATEGORİK DEĞİŞKENLER\n",
    "\n",
    "import pandas as pd\n",
    "smoker=pd.get_dummies(df[[\"smoker\"]])\n",
    "time=pd.get_dummies(df[[\"day\"]])\n",
    "\n",
    "result=df[\"day\"].value_counts()\n",
    "\n",
    "#KUKLA (DUMMIES) DEĞİŞKENİNİ KALDIRMA\n",
    "smoker=smoker.drop(\"smoker_Yes\",axis=1)\n",
    "\n",
    "#VERİLERİ BİRLEŞTİRME\n",
    "new_data=pd.concat([total_bill,size,smoker,time,tip],axis=1) # tahmin etmek istedğiniz değeri sona koyun train test split için kolaylık sağlar\n",
    "\n",
    "#TRAİN VE TEST BELİRLEME\n",
    "training=new_data.iloc[:,0:1].values # 7 ye kadarkı stunlar train için\n",
    "testing=new_data.iloc[:,7:8].values\n",
    "\n",
    "#TRAİN VE TEST AYIRMA\n",
    "from sklearn.model_selection import train_test_split\n",
    "x_train,x_test,y_train,y_test=train_test_split(training,testing,test_size=0.30,random_state=42)"
   ]
  },
  {
   "cell_type": "code",
   "execution_count": 23,
   "id": "d7f08f5e-1bc9-4238-bee0-726f74edcf25",
   "metadata": {},
   "outputs": [
    {
     "data": {
      "text/plain": [
       "LinearRegression()"
      ]
     },
     "execution_count": 23,
     "metadata": {},
     "output_type": "execute_result"
    }
   ],
   "source": [
    "from sklearn.linear_model import LinearRegression\n",
    "\n",
    "linear_reg=LinearRegression()\n",
    "linear_reg.fit(x_train,y_train)"
   ]
  },
  {
   "cell_type": "code",
   "execution_count": 24,
   "id": "c5286c85-53be-4741-b502-41ea888659dd",
   "metadata": {},
   "outputs": [],
   "source": [
    "y_pred=linear_reg.predict(x_test)"
   ]
  },
  {
   "cell_type": "code",
   "execution_count": 25,
   "id": "d86025f8-a053-4610-804e-c6af5b72d99e",
   "metadata": {},
   "outputs": [
    {
     "name": "stdout",
     "output_type": "stream",
     "text": [
      "Train R2 Score: 0.45555590764504406\n",
      "Test R2 Score: 0.4291782688312412\n",
      "Ortalama Test Hatası: 0.86743935521794\n",
      "Ortalama Train Hatası: 1.0783029500384542\n",
      "Sabit Katsayı: [0.87695764]\n",
      "Ağırlıklar: [[0.10889371]]\n"
     ]
    }
   ],
   "source": [
    "from sklearn.metrics import r2_score, mean_squared_error\n",
    "\n",
    "print(\"Train R2 Score:\",r2_score(y_train,linear_reg.predict(x_train)))\n",
    "print(\"Test R2 Score:\",r2_score(y_test,linear_reg.predict(x_test)))\n",
    "\n",
    "print(\"Ortalama Test Hatası:\",np.sqrt(mean_squared_error(y_test,y_pred)))\n",
    "print(\"Ortalama Train Hatası:\",np.sqrt(mean_squared_error(y_train,linear_reg.predict(x_train))))\n",
    "\n",
    "print(\"Sabit Katsayı:\",linear_reg.intercept_)\n",
    "print(\"Ağırlıklar:\",linear_reg.coef_)"
   ]
  },
  {
   "cell_type": "code",
   "execution_count": 26,
   "id": "2ee5c9ae-c132-4fc8-b1bd-ca872fbf9261",
   "metadata": {},
   "outputs": [
    {
     "name": "stdin",
     "output_type": "stream",
     "text": [
      "Toplam Ücreti Giriniz: 2\n"
     ]
    },
    {
     "name": "stdout",
     "output_type": "stream",
     "text": [
      "Tahmin: [1.09474506]\n"
     ]
    }
   ],
   "source": [
    "size_deger=int(input(\"Toplam Ücreti Giriniz:\"))\n",
    "print(\"Tahmin:\",linear_reg.intercept_[0]+linear_reg.coef_[:,0]*size_deger)"
   ]
  },
  {
   "cell_type": "code",
   "execution_count": 27,
   "id": "b3d8f914-29cc-4cd4-be39-fd02fdc71449",
   "metadata": {},
   "outputs": [
    {
     "data": {
      "image/png": "[encoded data removed]",
      "text/plain": [
       "<Figure size 432x288 with 1 Axes>"
      ]
     },
     "metadata": {
      "needs_background": "light"
     },
     "output_type": "display_data"
    }
   ],
   "source": [
    "plt.scatter(x_train,y_train,color=\"red\")\n",
    "plt.plot(x_train,linear_reg.predict(x_train),color=\"blue\")\n",
    "\n",
    "plt.title(\"Truth or Bluff (Linear Regression)\")\n",
    "plt.xlabel(\"Total Bill\")\n",
    "plt.ylabel(\"Tip\")\n",
    "plt.show()"
   ]
  },
  {
   "cell_type": "code",
   "execution_count": null,
   "id": "76fe58e5-fc18-4927-aece-c5a1bc860487",
   "metadata": {},
   "outputs": [],
   "source": []
  }
 ],
 "metadata": {
  "kernelspec": {
   "display_name": "Python 3 (ipykernel)",
   "language": "python",
   "name": "python3"
  },
  "language_info": {
   "codemirror_mode": {
    "name": "ipython",
    "version": 3
   },
   "file_extension": ".py",
   "mimetype": "text/x-python",
   "name": "python",
   "nbconvert_exporter": "python",
   "pygments_lexer": "ipython3",
   "version": "3.10.2"
  }
 },
 "nbformat": 4,
 "nbformat_minor": 5
}
