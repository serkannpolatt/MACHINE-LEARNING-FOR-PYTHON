{
 "cells": [
  {
   "cell_type": "code",
   "execution_count": 1,
   "id": "7dcdfa7b-4176-4152-872b-fdea5d90f82b",
   "metadata": {},
   "outputs": [],
   "source": [
    "import pandas as pd\n",
    "import numpy as np\n",
    "from sklearn.linear_model import LinearRegression"
   ]
  },
  {
   "cell_type": "code",
   "execution_count": 2,
   "id": "01efbe7f-9092-43ec-943a-18b7addcbd29",
   "metadata": {},
   "outputs": [],
   "source": [
    "data = pd.read_csv(\"multiple-linear-regression-dataset.csv\")"
   ]
  },
  {
   "cell_type": "code",
   "execution_count": 6,
   "id": "b1799d57-7737-44cd-ba5c-ca4e00625e06",
   "metadata": {},
   "outputs": [
    {
     "name": "stdout",
     "output_type": "stream",
     "text": [
      "<class 'pandas.core.frame.DataFrame'>\n",
      "RangeIndex: 14 entries, 0 to 13\n",
      "Data columns (total 3 columns):\n",
      " #   Column   Non-Null Count  Dtype  \n",
      "---  ------   --------------  -----  \n",
      " 0   deneyim  14 non-null     float64\n",
      " 1   maas     14 non-null     int64  \n",
      " 2   yas      14 non-null     int64  \n",
      "dtypes: float64(1), int64(2)\n",
      "memory usage: 464.0 bytes\n",
      "None\n",
      "*********************************************************\n",
      "   deneyim  maas  yas\n",
      "0      0.5  2500   22\n",
      "1      0.0  2250   21\n",
      "2      1.0  2750   23\n",
      "3      5.0  8000   25\n",
      "4      8.0  9000   28\n",
      "*********************************************************\n",
      "         deneyim          maas        yas\n",
      "count  14.000000     14.000000  14.000000\n",
      "mean    6.250000   8778.571429  26.714286\n",
      "std     4.979767   5733.495185   4.713786\n",
      "min     0.000000   2250.000000  21.000000\n",
      "25%     2.250000   4125.000000  23.000000\n",
      "50%     5.500000   7750.000000  26.000000\n",
      "75%     9.500000  12000.000000  29.750000\n",
      "max    15.000000  20000.000000  35.000000\n"
     ]
    }
   ],
   "source": [
    "print(data.info())\n",
    "print(\"*********************************************************\")\n",
    "print(data.head())\n",
    "print(\"*********************************************************\")\n",
    "print(data.describe())"
   ]
  },
  {
   "cell_type": "code",
   "execution_count": 7,
   "id": "9a5f9277-e8a8-409b-b52b-c6f5e017b4bb",
   "metadata": {},
   "outputs": [
    {
     "name": "stdout",
     "output_type": "stream",
     "text": [
      "b0:  [10376.62747228]\n",
      "b1:  [[1525.50072054 -416.72218625]]\n",
      "r_square score:  0.9818393838730448\n"
     ]
    }
   ],
   "source": [
    "x = data.iloc[:,[0,2]].values\n",
    "y = data.maas.values.reshape(-1,1)\n",
    "\n",
    "multiple_linear_regression = LinearRegression()\n",
    "multiple_linear_regression.fit(x,y)\n",
    "\n",
    "print(\"b0: \",multiple_linear_regression.intercept_)\n",
    "print(\"b1: \", multiple_linear_regression.coef_)\n",
    "\n",
    "#predict\n",
    "x_ = np.array([[10,35],[5,35]])\n",
    "multiple_linear_regression.predict(x_)\n",
    "\n",
    "y_head = multiple_linear_regression.predict(x) \n",
    "from sklearn.metrics import r2_score\n",
    "print(\"r_square score: \", r2_score(y,y_head))"
   ]
  },
  {
   "cell_type": "code",
   "execution_count": null,
   "id": "7a238365-f69f-4753-b122-ccab1e0cd4d9",
   "metadata": {},
   "outputs": [],
   "source": []
  },
  {
   "cell_type": "code",
   "execution_count": null,
   "id": "a8a72bec-8f1b-45b9-b85f-bcf1583b0a53",
   "metadata": {},
   "outputs": [],
   "source": []
  },
  {
   "cell_type": "code",
   "execution_count": 8,
   "id": "18733060-1714-4621-a991-e9ef13830214",
   "metadata": {},
   "outputs": [],
   "source": [
    "import seaborn as sns\n",
    "import pandas as pd\n",
    "import matplotlib.pyplot as plt\n",
    "import numpy as np\n",
    "\n",
    "\n",
    "data=sns.load_dataset(\"tips\")\n",
    "df=pd.DataFrame(data)\n",
    "\n",
    "#EKSİK VERİ DOLDURMA\n",
    "from sklearn.impute import SimpleImputer\n",
    "import numpy as np\n",
    "\n",
    "imputer=SimpleImputer(missing_values=np.nan, strategy=\"mean\") #eksik verileri boş sütünlarına ortalamasını verdik\n",
    "imputer=imputer.fit(df[[\"total_bill\"]])\n",
    "df[[\"total_bill\"]]=imputer.transform(df[[\"total_bill\"]])\n",
    "\n",
    "#KATEGORİK OLMAYAN DEĞİŞKENLER\n",
    "total_bill=df[[\"total_bill\"]]\n",
    "tip=df[[\"tip\"]]\n",
    "size=df[[\"size\"]]\n",
    "\n",
    "#KATEGORİK DEĞİŞKENLER\n",
    "\n",
    "import pandas as pd\n",
    "smoker=pd.get_dummies(df[[\"smoker\"]])\n",
    "time=pd.get_dummies(df[[\"day\"]])\n",
    "\n",
    "result=df[\"day\"].value_counts()\n",
    "\n",
    "#KUKLA (DUMMIES) DEĞİŞKENİNİ KALDIRMA\n",
    "smoker=smoker.drop(\"smoker_Yes\",axis=1)\n",
    "\n",
    "#VERİLERİ BİRLEŞTİRME\n",
    "new_data=pd.concat([total_bill,size,smoker,time,tip],axis=1) # tahmin etmek istedğiniz değeri sona koyun train test split için kolaylık sağlar\n",
    "\n",
    "#TRAİN VE TEST BELİRLEME\n",
    "training=new_data.iloc[:,0:1].values # 7 ye kadarkı stunlar train için\n",
    "testing=new_data.iloc[:,7:8].values\n",
    "\n",
    "#TRAİN VE TEST AYIRMA\n",
    "from sklearn.model_selection import train_test_split\n",
    "x_train,x_test,y_train,y_test=train_test_split(training,testing,test_size=0.30,random_state=42)"
   ]
  },
  {
   "cell_type": "code",
   "execution_count": 9,
   "id": "516949fb-1721-4807-922d-5524de22c0eb",
   "metadata": {},
   "outputs": [],
   "source": [
    "from sklearn.linear_model import LinearRegression\n",
    "multilinear_reg=LinearRegression()\n",
    "model=multilinear_reg.fit(x_train,y_train)"
   ]
  },
  {
   "cell_type": "code",
   "execution_count": 10,
   "id": "6adc2ee3-b282-4f0a-bf39-1ef5a4afb926",
   "metadata": {},
   "outputs": [
    {
     "data": {
      "text/plain": [
       "array([0.87695764])"
      ]
     },
     "execution_count": 10,
     "metadata": {},
     "output_type": "execute_result"
    }
   ],
   "source": [
    "model.intercept_"
   ]
  },
  {
   "cell_type": "code",
   "execution_count": 11,
   "id": "dd26b245-5383-453e-8c8e-6680aa2ef784",
   "metadata": {},
   "outputs": [
    {
     "data": {
      "text/plain": [
       "array([[0.10889371]])"
      ]
     },
     "execution_count": 11,
     "metadata": {},
     "output_type": "execute_result"
    }
   ],
   "source": [
    "model.coef_"
   ]
  },
  {
   "cell_type": "code",
   "execution_count": 12,
   "id": "ee2d49cb-6604-4846-89c6-a45486315b53",
   "metadata": {},
   "outputs": [],
   "source": [
    "y_pred=multilinear_reg.predict(x_test)"
   ]
  },
  {
   "cell_type": "code",
   "execution_count": 13,
   "id": "789e9ebd-754b-4d45-8f2a-6646c71d298f",
   "metadata": {},
   "outputs": [
    {
     "name": "stdout",
     "output_type": "stream",
     "text": [
      "      Tahmin Gerçek\n",
      "0   3.035231   3.18\n",
      "1   1.831955   2.00\n",
      "2   3.550298   2.00\n",
      "3   3.696216   5.16\n",
      "4   2.292576   2.00\n",
      "..       ...    ...\n",
      "69  3.547031   3.48\n",
      "70  3.029786   2.00\n",
      "71  3.942316   3.00\n",
      "72  2.759730   2.71\n",
      "73  3.016719   3.00\n",
      "\n",
      "[74 rows x 2 columns]\n"
     ]
    }
   ],
   "source": [
    "y_tahmin=pd.DataFrame(data=y_pred)\n",
    "y_test=pd.DataFrame(data=y_test)\n",
    "np.where(y_tahmin.index==y_test.index)\n",
    "y_tahmin.index=y_test.index\n",
    "\n",
    "result=pd.concat([y_tahmin,y_test],axis=1)\n",
    "result.columns=[[\"Tahmin\",\"Gerçek\"]]\n",
    "print(result)"
   ]
  },
  {
   "cell_type": "code",
   "execution_count": 14,
   "id": "02f1af77-475d-40cb-bf24-c9f670923f74",
   "metadata": {},
   "outputs": [
    {
     "data": {
      "text/html": [
       "<table class=\"simpletable\">\n",
       "<caption>OLS Regression Results</caption>\n",
       "<tr>\n",
       "  <th>Dep. Variable:</th>            <td>y</td>        <th>  R-squared (uncentered):</th>      <td>   0.890</td>\n",
       "</tr>\n",
       "<tr>\n",
       "  <th>Model:</th>                   <td>OLS</td>       <th>  Adj. R-squared (uncentered):</th> <td>   0.889</td>\n",
       "</tr>\n",
       "<tr>\n",
       "  <th>Method:</th>             <td>Least Squares</td>  <th>  F-statistic:       </th>          <td>   1360.</td>\n",
       "</tr>\n",
       "<tr>\n",
       "  <th>Date:</th>             <td>Wed, 20 Apr 2022</td> <th>  Prob (F-statistic):</th>          <td>9.45e-83</td>\n",
       "</tr>\n",
       "<tr>\n",
       "  <th>Time:</th>                 <td>00:31:26</td>     <th>  Log-Likelihood:    </th>          <td> -262.88</td>\n",
       "</tr>\n",
       "<tr>\n",
       "  <th>No. Observations:</th>      <td>   170</td>      <th>  AIC:               </th>          <td>   527.8</td>\n",
       "</tr>\n",
       "<tr>\n",
       "  <th>Df Residuals:</th>          <td>   169</td>      <th>  BIC:               </th>          <td>   530.9</td>\n",
       "</tr>\n",
       "<tr>\n",
       "  <th>Df Model:</th>              <td>     1</td>      <th>                     </th>              <td> </td>   \n",
       "</tr>\n",
       "<tr>\n",
       "  <th>Covariance Type:</th>      <td>nonrobust</td>    <th>                     </th>              <td> </td>   \n",
       "</tr>\n",
       "</table>\n",
       "<table class=\"simpletable\">\n",
       "<tr>\n",
       "   <td></td>     <th>coef</th>     <th>std err</th>      <th>t</th>      <th>P>|t|</th>  <th>[0.025</th>    <th>0.975]</th>  \n",
       "</tr>\n",
       "<tr>\n",
       "  <th>x1</th> <td>    0.1449</td> <td>    0.004</td> <td>   36.884</td> <td> 0.000</td> <td>    0.137</td> <td>    0.153</td>\n",
       "</tr>\n",
       "</table>\n",
       "<table class=\"simpletable\">\n",
       "<tr>\n",
       "  <th>Omnibus:</th>       <td>23.727</td> <th>  Durbin-Watson:     </th> <td>   2.049</td>\n",
       "</tr>\n",
       "<tr>\n",
       "  <th>Prob(Omnibus):</th> <td> 0.000</td> <th>  Jarque-Bera (JB):  </th> <td>  37.317</td>\n",
       "</tr>\n",
       "<tr>\n",
       "  <th>Skew:</th>          <td>-0.745</td> <th>  Prob(JB):          </th> <td>7.88e-09</td>\n",
       "</tr>\n",
       "<tr>\n",
       "  <th>Kurtosis:</th>      <td> 4.746</td> <th>  Cond. No.          </th> <td>    1.00</td>\n",
       "</tr>\n",
       "</table><br/><br/>Notes:<br/>[1] R² is computed without centering (uncentered) since the model does not contain a constant.<br/>[2] Standard Errors assume that the covariance matrix of the errors is correctly specified."
      ],
      "text/plain": [
       "<class 'statsmodels.iolib.summary.Summary'>\n",
       "\"\"\"\n",
       "                                 OLS Regression Results                                \n",
       "=======================================================================================\n",
       "Dep. Variable:                      y   R-squared (uncentered):                   0.890\n",
       "Model:                            OLS   Adj. R-squared (uncentered):              0.889\n",
       "Method:                 Least Squares   F-statistic:                              1360.\n",
       "Date:                Wed, 20 Apr 2022   Prob (F-statistic):                    9.45e-83\n",
       "Time:                        00:31:26   Log-Likelihood:                         -262.88\n",
       "No. Observations:                 170   AIC:                                      527.8\n",
       "Df Residuals:                     169   BIC:                                      530.9\n",
       "Df Model:                           1                                                  \n",
       "Covariance Type:            nonrobust                                                  \n",
       "==============================================================================\n",
       "                 coef    std err          t      P>|t|      [0.025      0.975]\n",
       "------------------------------------------------------------------------------\n",
       "x1             0.1449      0.004     36.884      0.000       0.137       0.153\n",
       "==============================================================================\n",
       "Omnibus:                       23.727   Durbin-Watson:                   2.049\n",
       "Prob(Omnibus):                  0.000   Jarque-Bera (JB):               37.317\n",
       "Skew:                          -0.745   Prob(JB):                     7.88e-09\n",
       "Kurtosis:                       4.746   Cond. No.                         1.00\n",
       "==============================================================================\n",
       "\n",
       "Notes:\n",
       "[1] R² is computed without centering (uncentered) since the model does not contain a constant.\n",
       "[2] Standard Errors assume that the covariance matrix of the errors is correctly specified.\n",
       "\"\"\""
      ]
     },
     "execution_count": 14,
     "metadata": {},
     "output_type": "execute_result"
    }
   ],
   "source": [
    "import statsmodels.api as sm\n",
    "\n",
    "lm=sm.OLS(y_train,x_train)\n",
    "model=lm.fit()\n",
    "model.summary()"
   ]
  },
  {
   "cell_type": "markdown",
   "id": "0b4f6cdb-bd51-4b0c-b51e-0eb3c204bce8",
   "metadata": {},
   "source": [
    "MSE\n",
    "\n",
    "İstatistikte,bir tahmin edicinin ortalama karesi alınmış hatası veya ortalama kare sapması,hataların karelerin ortlamasını,yani tahmin edilen değerler ile gerçek değer arasındaki ortalama kare farkını ölçer. MSE, kare hata kaybının beklenen değerine karşılık gelen risk fonksiyonudur."
   ]
  },
  {
   "cell_type": "code",
   "execution_count": 15,
   "id": "7b17ef33-8c85-400f-9275-0185a35b8f9d",
   "metadata": {},
   "outputs": [
    {
     "name": "stdout",
     "output_type": "stream",
     "text": [
      "Train RMSE: 1.1359108762265422\n",
      "Test RMSE: 0.9604923709876836\n"
     ]
    }
   ],
   "source": [
    "from sklearn.metrics import mean_squared_error\n",
    "\n",
    "rmse=np.sqrt(mean_squared_error(y_train,model.predict(x_train)))\n",
    "print(\"Train RMSE:\",rmse)\n",
    "rmse=np.sqrt(mean_squared_error(y_test,model.predict(x_test)))\n",
    "print(\"Test RMSE:\",rmse)"
   ]
  },
  {
   "cell_type": "code",
   "execution_count": 16,
   "id": "321db85c-6ba5-42d8-8161-5aa9986bcadb",
   "metadata": {},
   "outputs": [
    {
     "name": "stdin",
     "output_type": "stream",
     "text": [
      "Total Bill: 2\n",
      "Size: 2\n",
      "Smoker?(0 & 1): 0\n",
      "is it Thursday (0 & 1): 1\n",
      "is it friday (0 & 1): 0\n",
      "is it saturday (0 & 1): 0\n",
      "is it sunday (0 & 1): 0\n"
     ]
    },
    {
     "name": "stdout",
     "output_type": "stream",
     "text": [
      "Tahmin: []\n"
     ]
    }
   ],
   "source": [
    "total_bill=int(input(\"Total Bill:\"))\n",
    "size=int(input(\"Size:\"))\n",
    "smoker=int(input(\"Smoker?(0 & 1):\"))\n",
    "thursday=int(input(\"is it Thursday (0 & 1):\"))\n",
    "friday=int(input(\"is it friday (0 & 1):\"))\n",
    "saturday=int(input(\"is it saturday (0 & 1):\"))\n",
    "sunday=int(input(\"is it sunday (0 & 1):\"))\n",
    "\n",
    "tahmin=[total_bill,size,smoker,thursday,friday,saturday,sunday]\n",
    "\n",
    "sabit=multilinear_reg.intercept_[0]\n",
    "total_bill_weight=multilinear_reg.coef_[:,0]*tahmin[0]\n",
    "size_weight=multilinear_reg.coef_[:,0:1]*tahmin[1]\n",
    "smoker_weight=multilinear_reg.coef_[:,1:2]*tahmin[2]\n",
    "thur_weight=multilinear_reg.coef_[:,2:3]*tahmin[3]\n",
    "fri_weight=multilinear_reg.coef_[:,3:4]*tahmin[4]\n",
    "sat_weight=multilinear_reg.coef_[:,4:5]*tahmin[5]\n",
    "sun_weight=multilinear_reg.coef_[:,5:6]*tahmin[6]\n",
    "\n",
    "result=sabit+total_bill_weight+size_weight+smoker_weight+thur_weight+fri_weight+sat_weight+sun_weight\n",
    "print(\"Tahmin:\",result[0])"
   ]
  },
  {
   "cell_type": "code",
   "execution_count": null,
   "id": "4c8d9c92-568a-4b97-a83b-1e6165fd6c65",
   "metadata": {},
   "outputs": [],
   "source": []
  }
 ],
 "metadata": {
  "kernelspec": {
   "display_name": "Python 3 (ipykernel)",
   "language": "python",
   "name": "python3"
  },
  "language_info": {
   "codemirror_mode": {
    "name": "ipython",
    "version": 3
   },
   "file_extension": ".py",
   "mimetype": "text/x-python",
   "name": "python",
   "nbconvert_exporter": "python",
   "pygments_lexer": "ipython3",
   "version": "3.10.2"
  }
 },
 "nbformat": 4,
 "nbformat_minor": 5
}
