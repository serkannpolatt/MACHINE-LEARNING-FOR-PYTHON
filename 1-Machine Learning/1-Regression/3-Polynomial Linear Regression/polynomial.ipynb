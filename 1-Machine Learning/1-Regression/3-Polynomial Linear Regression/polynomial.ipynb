{
 "cells": [
  {
   "cell_type": "code",
   "execution_count": 2,
   "id": "f641c61c-9436-4a5e-896d-23621611bc56",
   "metadata": {},
   "outputs": [],
   "source": [
    "import pandas as pd\n",
    "import matplotlib.pyplot as plt"
   ]
  },
  {
   "cell_type": "code",
   "execution_count": 1,
   "id": "deaed75e-bac1-459b-97a8-e07ab25b6d2d",
   "metadata": {},
   "outputs": [],
   "source": [
    "data=pd.read_csv(\"polynomial-regression.csv\")"
   ]
  },
  {
   "cell_type": "code",
   "execution_count": 3,
   "id": "c80b002c-d8f2-4f5c-b250-d50a0e5ad27b",
   "metadata": {},
   "outputs": [
    {
     "name": "stdout",
     "output_type": "stream",
     "text": [
      "<class 'pandas.core.frame.DataFrame'>\n",
      "RangeIndex: 15 entries, 0 to 14\n",
      "Data columns (total 2 columns):\n",
      " #   Column         Non-Null Count  Dtype\n",
      "---  ------         --------------  -----\n",
      " 0   araba_fiyat    15 non-null     int64\n",
      " 1   araba_max_hiz  15 non-null     int64\n",
      "dtypes: int64(2)\n",
      "memory usage: 368.0 bytes\n",
      "None\n",
      "********************************************************\n",
      "   araba_fiyat  araba_max_hiz\n",
      "0           60            180\n",
      "1           70            180\n",
      "2           80            200\n",
      "3          100            200\n",
      "4          120            200\n",
      "********************************************************\n",
      "       araba_fiyat  araba_max_hiz\n",
      "count    15.000000      15.000000\n",
      "mean    598.666667     274.333333\n",
      "std     838.824574      77.364321\n",
      "min      60.000000     180.000000\n",
      "25%     110.000000     200.000000\n",
      "50%     250.000000     240.000000\n",
      "75%     625.000000     355.000000\n",
      "max    3000.000000     365.000000\n"
     ]
    }
   ],
   "source": [
    "print(data.info())\n",
    "print(\"********************************************************\")\n",
    "print(data.head())\n",
    "print(\"********************************************************\")\n",
    "print(data.describe())"
   ]
  },
  {
   "cell_type": "code",
   "execution_count": 4,
   "id": "a056b604-09f4-499d-881d-8afc89ab7765",
   "metadata": {},
   "outputs": [
    {
     "data": {
      "image/png": "[encoded data removed]",
      "text/plain": [
       "<Figure size 432x288 with 1 Axes>"
      ]
     },
     "metadata": {
      "needs_background": "light"
     },
     "output_type": "display_data"
    }
   ],
   "source": [
    "x = data.araba_fiyat.values.reshape(-1,1)\n",
    "y = data.araba_max_hiz.values.reshape(-1,1)\n",
    "\n",
    "plt.scatter(x,y)\n",
    "plt.xlabel(\"araba_max_hiz\")\n",
    "plt.ylabel(\"araba_fiyat\")\n",
    "plt.show()"
   ]
  },
  {
   "cell_type": "code",
   "execution_count": 5,
   "id": "470db6d7-b4d6-495a-8433-86e383bce594",
   "metadata": {},
   "outputs": [
    {
     "data": {
      "image/png": "[encoded data removed]",
      "text/plain": [
       "<Figure size 432x288 with 1 Axes>"
      ]
     },
     "metadata": {
      "needs_background": "light"
     },
     "output_type": "display_data"
    },
    {
     "name": "stdout",
     "output_type": "stream",
     "text": [
      "r_square score:  0.9694743021235677\n"
     ]
    }
   ],
   "source": [
    "# polynomial regression =  y = b0 + b1*x +b2*x^2 + b3*x^3 + ... + bn*x^n\n",
    "from sklearn.preprocessing import PolynomialFeatures\n",
    "from sklearn.linear_model import LinearRegression\n",
    "\n",
    "polynominal_regression = PolynomialFeatures(degree=4)\n",
    "x_polynomial = polynominal_regression.fit_transform(x,y)\n",
    "\n",
    "# %% fit\n",
    "linear_regression = LinearRegression()\n",
    "linear_regression.fit(x_polynomial,y)\n",
    "# %%\n",
    "y_head2 = linear_regression.predict(x_polynomial)\n",
    "\n",
    "plt.plot(x,y_head2,color= \"green\",label = \"poly\")\n",
    "plt.legend()\n",
    "plt.scatter(x,y)\n",
    "plt.xlabel(\"araba_max_hiz\")\n",
    "plt.ylabel(\"araba_fiyat\")\n",
    "plt.show()\n",
    "\n",
    "from sklearn.metrics import r2_score\n",
    "print(\"r_square score: \", r2_score(y,y_head2))"
   ]
  },
  {
   "cell_type": "code",
   "execution_count": null,
   "id": "22a1d76f-9be2-4b4b-8446-44d60799e87f",
   "metadata": {},
   "outputs": [],
   "source": []
  },
  {
   "cell_type": "code",
   "execution_count": null,
   "id": "6e2adf5b-38cf-4b72-885c-1ed7d11fd24e",
   "metadata": {},
   "outputs": [],
   "source": []
  },
  {
   "cell_type": "code",
   "execution_count": 6,
   "id": "ee76adae-e963-4f85-824c-4d4b6f4e896b",
   "metadata": {},
   "outputs": [],
   "source": [
    "import seaborn as sns\n",
    "import pandas as pd\n",
    "import matplotlib.pyplot as plt\n",
    "import numpy as np\n",
    "\n",
    "\n",
    "data=sns.load_dataset(\"tips\")\n",
    "df=pd.DataFrame(data)\n",
    "\n",
    "#EKSİK VERİ DOLDURMA\n",
    "from sklearn.impute import SimpleImputer\n",
    "import numpy as np\n",
    "\n",
    "imputer=SimpleImputer(missing_values=np.nan, strategy=\"mean\") #eksik verileri boş sütünlarına ortalamasını verdik\n",
    "imputer=imputer.fit(df[[\"total_bill\"]])\n",
    "df[[\"total_bill\"]]=imputer.transform(df[[\"total_bill\"]])\n",
    "\n",
    "#KATEGORİK OLMAYAN DEĞİŞKENLER\n",
    "total_bill=df[[\"total_bill\"]]\n",
    "tip=df[[\"tip\"]]\n",
    "size=df[[\"size\"]]\n",
    "\n",
    "#KATEGORİK DEĞİŞKENLER\n",
    "\n",
    "import pandas as pd\n",
    "smoker=pd.get_dummies(df[[\"smoker\"]])\n",
    "time=pd.get_dummies(df[[\"day\"]])\n",
    "\n",
    "result=df[\"day\"].value_counts()\n",
    "\n",
    "#KUKLA (DUMMIES) DEĞİŞKENİNİ KALDIRMA\n",
    "smoker=smoker.drop(\"smoker_Yes\",axis=1)\n",
    "\n",
    "#VERİLERİ BİRLEŞTİRME\n",
    "new_data=pd.concat([total_bill,size,smoker,time,tip],axis=1) # tahmin etmek istedğiniz değeri sona koyun train test split için kolaylık sağlar\n",
    "\n",
    "#TRAİN VE TEST BELİRLEME\n",
    "training=new_data.iloc[:,0:1].values # 7 ye kadarkı stunlar train için\n",
    "testing=new_data.iloc[:,7:8].values\n",
    "\n",
    "#TRAİN VE TEST AYIRMA\n",
    "from sklearn.model_selection import train_test_split\n",
    "x_train,x_test,y_train,y_test=train_test_split(training,testing,test_size=0.30,random_state=42)"
   ]
  },
  {
   "cell_type": "code",
   "execution_count": null,
   "id": "2f7200d4-1b33-4d92-8749-c7a0f1c6a863",
   "metadata": {},
   "outputs": [
    {
     "data": {
      "text/plain": [
       "LinearRegression()"
      ]
     },
     "execution_count": 7,
     "metadata": {},
     "output_type": "execute_result"
    }
   ],
   "source": [
    "from sklearn.linear_model import LinearRegression\n",
    "import numpy as np\n",
    "from sklearn import *\n",
    "linear_reg=LinearRegression()\n",
    "linear_reg.fit(x_train,y_train)"
   ]
  },
  {
   "cell_type": "code",
   "execution_count": 8,
   "id": "d4551eb8-505b-4f56-8c2b-b97fdae32dc4",
   "metadata": {},
   "outputs": [],
   "source": [
    "from sklearn.preprocessing import PolynomialFeatures\n",
    "\n",
    "polynomial_reg=PolynomialFeatures(degree=3)\n",
    "xp=polynomial_reg.fit_transform(x_train)"
   ]
  },
  {
   "cell_type": "code",
   "execution_count": 9,
   "id": "a922bb29-2421-4575-8360-21a1533a58ec",
   "metadata": {},
   "outputs": [
    {
     "data": {
      "text/plain": [
       "LinearRegression()"
      ]
     },
     "execution_count": 9,
     "metadata": {},
     "output_type": "execute_result"
    }
   ],
   "source": [
    "linear_reg2=LinearRegression()\n",
    "linear_reg2.fit(xp,y_train)"
   ]
  },
  {
   "cell_type": "code",
   "execution_count": 10,
   "id": "07e0b302-977a-47e4-982f-aa7c382aa76a",
   "metadata": {},
   "outputs": [
    {
     "name": "stdout",
     "output_type": "stream",
     "text": [
      "      Tahmin Gerçek\n",
      "0   3.237092   3.18\n",
      "1   1.372557   2.00\n",
      "2   3.561759   2.00\n",
      "3   3.633816   5.16\n",
      "4   2.345095   2.00\n",
      "..       ...    ...\n",
      "69  3.560089   3.48\n",
      "70  3.232742   2.00\n",
      "71  3.750835   3.00\n",
      "72  2.982518   2.71\n",
      "73  3.222201   3.00\n",
      "\n",
      "[74 rows x 2 columns]\n"
     ]
    }
   ],
   "source": [
    "y_pred=linear_reg2.predict(polynomial_reg.fit_transform(x_test))\n",
    "y_tahmin=pd.DataFrame(data=y_pred)\n",
    "y_normal=pd.DataFrame(data=y_test)\n",
    "y_tahmin.index=y_normal.index\n",
    "result=pd.concat([y_tahmin,y_normal],axis=1)\n",
    "result.columns=[[\"Tahmin\",\"Gerçek\"]]\n",
    "print(result)"
   ]
  },
  {
   "cell_type": "code",
   "execution_count": null,
   "id": "b9930d6b-828d-44f9-b107-3000fa546e1b",
   "metadata": {},
   "outputs": [],
   "source": []
  }
 ],
 "metadata": {
  "kernelspec": {
   "display_name": "Python 3 (ipykernel)",
   "language": "python",
   "name": "python3"
  },
  "language_info": {
   "codemirror_mode": {
    "name": "ipython",
    "version": 3
   },
   "file_extension": ".py",
   "mimetype": "text/x-python",
   "name": "python",
   "nbconvert_exporter": "python",
   "pygments_lexer": "ipython3",
   "version": "3.10.2"
  }
 },
 "nbformat": 4,
 "nbformat_minor": 5
}
