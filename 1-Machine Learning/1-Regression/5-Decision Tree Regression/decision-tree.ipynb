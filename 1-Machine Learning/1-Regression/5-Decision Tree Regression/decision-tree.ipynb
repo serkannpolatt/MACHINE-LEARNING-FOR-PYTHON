{
 "cells": [
  {
   "cell_type": "code",
   "execution_count": 1,
   "id": "1fe0a019-30d1-4d59-ab14-a1e5c6a04e59",
   "metadata": {},
   "outputs": [
    {
     "name": "stdout",
     "output_type": "stream",
     "text": [
      "<class 'pandas.core.frame.DataFrame'>\n",
      "RangeIndex: 10 entries, 0 to 9\n",
      "Data columns (total 2 columns):\n",
      " #   Column  Non-Null Count  Dtype\n",
      "---  ------  --------------  -----\n",
      " 0   0       10 non-null     int64\n",
      " 1   1       10 non-null     int64\n",
      "dtypes: int64(2)\n",
      "memory usage: 288.0 bytes\n",
      "None\n",
      "********************************************************\n",
      "   0    1\n",
      "0  1  100\n",
      "1  2   80\n",
      "2  3   70\n",
      "3  4   60\n",
      "4  5   50\n",
      "********************************************************\n",
      "              0          1\n",
      "count  10.00000   10.00000\n",
      "mean    5.50000   46.50000\n",
      "std     3.02765   31.27388\n",
      "min     1.00000    5.00000\n",
      "25%     3.25000   22.50000\n",
      "50%     5.50000   45.00000\n",
      "75%     7.75000   67.50000\n",
      "max    10.00000  100.00000\n"
     ]
    }
   ],
   "source": [
    "import pandas as pd\n",
    "import matplotlib.pyplot as plt\n",
    "import numpy as np\n",
    "\n",
    "data = pd.read_csv(\"decision-tree-regression-dataset.csv\", header=None)\n",
    "print(data.info())\n",
    "print(\"********************************************************\")\n",
    "print(data.head())\n",
    "print(\"********************************************************\")\n",
    "print(data.describe())"
   ]
  },
  {
   "cell_type": "code",
   "execution_count": 2,
   "id": "88a71bc2-ab9d-4e7b-8c87-8c4fccb15ae3",
   "metadata": {},
   "outputs": [],
   "source": [
    "x = data.iloc[:,[0]].values.reshape(-1,1)\n",
    "y = data.iloc[:,[1]].values.reshape(-1,1)"
   ]
  },
  {
   "cell_type": "code",
   "execution_count": 3,
   "id": "c7499c21-e224-4310-a2bb-4dd7b18c0549",
   "metadata": {},
   "outputs": [
    {
     "name": "stdout",
     "output_type": "stream",
     "text": [
      "[50.]\n"
     ]
    }
   ],
   "source": [
    "#%%  decision tree regression\n",
    "from sklearn.tree import DecisionTreeRegressor\n",
    "tree_reg = DecisionTreeRegressor()\n",
    "tree_reg.fit(x,y)\n",
    "\n",
    "print(tree_reg.predict(np.array([5.5]).reshape(-1,1)))"
   ]
  },
  {
   "cell_type": "code",
   "execution_count": 5,
   "id": "91884651-8e14-4835-9299-a01b2185180b",
   "metadata": {},
   "outputs": [
    {
     "data": {
      "image/png": "[encoded data removed]",
      "text/plain": [
       "<Figure size 432x288 with 1 Axes>"
      ]
     },
     "metadata": {
      "needs_background": "light"
     },
     "output_type": "display_data"
    },
    {
     "name": "stdout",
     "output_type": "stream",
     "text": [
      "r_square score:  1.0\n"
     ]
    }
   ],
   "source": [
    "x_ = np.arange(min(x),max(x),0.01).reshape(-1,1)\n",
    "#print(x)\n",
    "y_head = tree_reg.predict(x_)\n",
    "#print(y_head)\n",
    "\n",
    "# %% visualize\n",
    "plt.scatter(x,y,color=\"red\")\n",
    "plt.plot(x_,y_head,color = \"green\")\n",
    "plt.xlabel(\"tribun level\")\n",
    "plt.ylabel(\"ucret\")\n",
    "plt.show()\n",
    "\n",
    "y_head = tree_reg.predict(x)\n",
    "from sklearn.metrics import r2_score\n",
    "print(\"r_square score: \", r2_score(y,y_head))"
   ]
  },
  {
   "cell_type": "code",
   "execution_count": null,
   "id": "2809776b-1002-4c44-ae25-4ec652a5e6a3",
   "metadata": {},
   "outputs": [],
   "source": []
  },
  {
   "cell_type": "code",
   "execution_count": null,
   "id": "9aa4371a-03bf-44d5-83a0-47de0f97e6c1",
   "metadata": {},
   "outputs": [],
   "source": []
  },
  {
   "cell_type": "code",
   "execution_count": null,
   "id": "7b54f13f-fa0e-41ac-86b0-8675dcad8355",
   "metadata": {},
   "outputs": [],
   "source": []
  },
  {
   "cell_type": "code",
   "execution_count": 6,
   "id": "0ea4b4d3-6d2b-4224-85fc-6f3db07ea928",
   "metadata": {},
   "outputs": [],
   "source": [
    "import seaborn as sns\n",
    "import pandas as pd\n",
    "import matplotlib.pyplot as plt\n",
    "import numpy as np\n",
    "\n",
    "\n",
    "data=sns.load_dataset(\"tips\")\n",
    "df=pd.DataFrame(data)\n",
    "\n",
    "#EKSİK VERİ DOLDURMA\n",
    "from sklearn.impute import SimpleImputer\n",
    "import numpy as np\n",
    "\n",
    "imputer=SimpleImputer(missing_values=np.nan, strategy=\"mean\") #eksik verileri boş sütünlarına ortalamasını verdik\n",
    "imputer=imputer.fit(df[[\"total_bill\"]])\n",
    "df[[\"total_bill\"]]=imputer.transform(df[[\"total_bill\"]])\n",
    "\n",
    "#KATEGORİK OLMAYAN DEĞİŞKENLER\n",
    "total_bill=df[[\"total_bill\"]]\n",
    "tip=df[[\"tip\"]]\n",
    "size=df[[\"size\"]]\n",
    "\n",
    "#KATEGORİK DEĞİŞKENLER\n",
    "\n",
    "import pandas as pd\n",
    "smoker=pd.get_dummies(df[[\"smoker\"]])\n",
    "time=pd.get_dummies(df[[\"day\"]])\n",
    "\n",
    "result=df[\"day\"].value_counts()\n",
    "\n",
    "#KUKLA (DUMMIES) DEĞİŞKENİNİ KALDIRMA\n",
    "smoker=smoker.drop(\"smoker_Yes\",axis=1)\n",
    "\n",
    "#VERİLERİ BİRLEŞTİRME\n",
    "new_data=pd.concat([total_bill,size,smoker,time,tip],axis=1) # tahmin etmek istedğiniz değeri sona koyun train test split için kolaylık sağlar\n",
    "\n",
    "#TRAİN VE TEST BELİRLEME\n",
    "training=new_data.iloc[:,0:1].values # 7 ye kadarkı stunlar train için\n",
    "testing=new_data.iloc[:,7:8].values\n",
    "\n",
    "#TRAİN VE TEST AYIRMA\n",
    "from sklearn.model_selection import train_test_split\n",
    "x_train,x_test,y_train,y_test=train_test_split(training,testing,test_size=0.30,random_state=42)"
   ]
  },
  {
   "cell_type": "code",
   "execution_count": 7,
   "id": "22d3fe13-f314-444b-8938-711b178eb84f",
   "metadata": {},
   "outputs": [
    {
     "data": {
      "text/plain": [
       "DecisionTreeRegressor(random_state=0)"
      ]
     },
     "execution_count": 7,
     "metadata": {},
     "output_type": "execute_result"
    }
   ],
   "source": [
    "from sklearn.tree import DecisionTreeRegressor\n",
    "dtr=DecisionTreeRegressor(random_state=0)\n",
    "dtr.fit(x_train,y_train)"
   ]
  },
  {
   "cell_type": "code",
   "execution_count": 8,
   "id": "f8f107fb-cda9-4424-a6a2-f4bbf92ed9ae",
   "metadata": {},
   "outputs": [
    {
     "name": "stdout",
     "output_type": "stream",
     "text": [
      "   Tahmin Gerçek\n",
      "0    4.19   3.18\n",
      "1    1.92   2.00\n",
      "2    3.61   2.00\n",
      "3    4.00   5.16\n",
      "4    2.00   2.00\n",
      "..    ...    ...\n",
      "69   3.61   3.48\n",
      "70   4.19   2.00\n",
      "71   6.50   3.00\n",
      "72   2.54   2.71\n",
      "73   4.19   3.00\n",
      "\n",
      "[74 rows x 2 columns]\n"
     ]
    }
   ],
   "source": [
    "y_pred=dtr.predict(x_test)\n",
    "y_tahmin=pd.DataFrame(data=y_pred)\n",
    "y_test=pd.DataFrame(data=y_test)\n",
    "y_tahmin.index=y_test.index\n",
    "\n",
    "result=pd.concat([y_tahmin,y_test],axis=1)\n",
    "result.columns=[[\"Tahmin\",\"Gerçek\"]]\n",
    "print(result)"
   ]
  },
  {
   "cell_type": "code",
   "execution_count": 9,
   "id": "834b0f99-ea23-471f-b137-017527fb98a5",
   "metadata": {},
   "outputs": [
    {
     "data": {
      "text/html": [
       "<table class=\"simpletable\">\n",
       "<caption>OLS Regression Results</caption>\n",
       "<tr>\n",
       "  <th>Dep. Variable:</th>            <td>y</td>        <th>  R-squared (uncentered):</th>      <td>   0.891</td>\n",
       "</tr>\n",
       "<tr>\n",
       "  <th>Model:</th>                   <td>OLS</td>       <th>  Adj. R-squared (uncentered):</th> <td>   0.890</td>\n",
       "</tr>\n",
       "<tr>\n",
       "  <th>Method:</th>             <td>Least Squares</td>  <th>  F-statistic:       </th>          <td>   1379.</td>\n",
       "</tr>\n",
       "<tr>\n",
       "  <th>Date:</th>             <td>Wed, 20 Apr 2022</td> <th>  Prob (F-statistic):</th>          <td>3.46e-83</td>\n",
       "</tr>\n",
       "<tr>\n",
       "  <th>Time:</th>                 <td>00:39:36</td>     <th>  Log-Likelihood:    </th>          <td> -261.75</td>\n",
       "</tr>\n",
       "<tr>\n",
       "  <th>No. Observations:</th>      <td>   170</td>      <th>  AIC:               </th>          <td>   525.5</td>\n",
       "</tr>\n",
       "<tr>\n",
       "  <th>Df Residuals:</th>          <td>   169</td>      <th>  BIC:               </th>          <td>   528.6</td>\n",
       "</tr>\n",
       "<tr>\n",
       "  <th>Df Model:</th>              <td>     1</td>      <th>                     </th>              <td> </td>   \n",
       "</tr>\n",
       "<tr>\n",
       "  <th>Covariance Type:</th>      <td>nonrobust</td>    <th>                     </th>              <td> </td>   \n",
       "</tr>\n",
       "</table>\n",
       "<table class=\"simpletable\">\n",
       "<tr>\n",
       "   <td></td>     <th>coef</th>     <th>std err</th>      <th>t</th>      <th>P>|t|</th>  <th>[0.025</th>    <th>0.975]</th>  \n",
       "</tr>\n",
       "<tr>\n",
       "  <th>x1</th> <td>    0.1449</td> <td>    0.004</td> <td>   37.132</td> <td> 0.000</td> <td>    0.137</td> <td>    0.153</td>\n",
       "</tr>\n",
       "</table>\n",
       "<table class=\"simpletable\">\n",
       "<tr>\n",
       "  <th>Omnibus:</th>       <td>25.387</td> <th>  Durbin-Watson:     </th> <td>   2.009</td>\n",
       "</tr>\n",
       "<tr>\n",
       "  <th>Prob(Omnibus):</th> <td> 0.000</td> <th>  Jarque-Bera (JB):  </th> <td>  41.410</td>\n",
       "</tr>\n",
       "<tr>\n",
       "  <th>Skew:</th>          <td>-0.776</td> <th>  Prob(JB):          </th> <td>1.02e-09</td>\n",
       "</tr>\n",
       "<tr>\n",
       "  <th>Kurtosis:</th>      <td> 4.854</td> <th>  Cond. No.          </th> <td>    1.00</td>\n",
       "</tr>\n",
       "</table><br/><br/>Notes:<br/>[1] R² is computed without centering (uncentered) since the model does not contain a constant.<br/>[2] Standard Errors assume that the covariance matrix of the errors is correctly specified."
      ],
      "text/plain": [
       "<class 'statsmodels.iolib.summary.Summary'>\n",
       "\"\"\"\n",
       "                                 OLS Regression Results                                \n",
       "=======================================================================================\n",
       "Dep. Variable:                      y   R-squared (uncentered):                   0.891\n",
       "Model:                            OLS   Adj. R-squared (uncentered):              0.890\n",
       "Method:                 Least Squares   F-statistic:                              1379.\n",
       "Date:                Wed, 20 Apr 2022   Prob (F-statistic):                    3.46e-83\n",
       "Time:                        00:39:36   Log-Likelihood:                         -261.75\n",
       "No. Observations:                 170   AIC:                                      525.5\n",
       "Df Residuals:                     169   BIC:                                      528.6\n",
       "Df Model:                           1                                                  \n",
       "Covariance Type:            nonrobust                                                  \n",
       "==============================================================================\n",
       "                 coef    std err          t      P>|t|      [0.025      0.975]\n",
       "------------------------------------------------------------------------------\n",
       "x1             0.1449      0.004     37.132      0.000       0.137       0.153\n",
       "==============================================================================\n",
       "Omnibus:                       25.387   Durbin-Watson:                   2.009\n",
       "Prob(Omnibus):                  0.000   Jarque-Bera (JB):               41.410\n",
       "Skew:                          -0.776   Prob(JB):                     1.02e-09\n",
       "Kurtosis:                       4.854   Cond. No.                         1.00\n",
       "==============================================================================\n",
       "\n",
       "Notes:\n",
       "[1] R² is computed without centering (uncentered) since the model does not contain a constant.\n",
       "[2] Standard Errors assume that the covariance matrix of the errors is correctly specified.\n",
       "\"\"\""
      ]
     },
     "execution_count": 9,
     "metadata": {},
     "output_type": "execute_result"
    }
   ],
   "source": [
    "import statsmodels.api as sm\n",
    "\n",
    "decision_tree=sm.OLS(dtr.predict(x_train),x_train)\n",
    "model=decision_tree.fit()\n",
    "model.summary()"
   ]
  },
  {
   "cell_type": "code",
   "execution_count": 10,
   "id": "af327cd6-4716-44bd-b9db-beec4dc1b36e",
   "metadata": {},
   "outputs": [
    {
     "name": "stdout",
     "output_type": "stream",
     "text": [
      "Train RMSE: 1.1359108762265422\n",
      "Test RMSE: 0.9604923709876836\n"
     ]
    }
   ],
   "source": [
    "from sklearn.metrics import mean_squared_error\n",
    "\n",
    "mse=np.sqrt(mean_squared_error(y_train, model.predict(x_train)))\n",
    "print(\"Train RMSE:\",mse)\n",
    "mse=np.sqrt(mean_squared_error(y_test, model.predict(x_test)))\n",
    "print(\"Test RMSE:\",mse)"
   ]
  },
  {
   "cell_type": "code",
   "execution_count": 11,
   "id": "8c943560-1941-40a6-9a6c-280b874b530f",
   "metadata": {},
   "outputs": [],
   "source": [
    "training=new_data.iloc[:,0:1].values # 7 ye kadarkı stunlar train için\n",
    "testing=new_data.iloc[:,7:8].values\n",
    "from sklearn.model_selection import train_test_split\n",
    "x_train,x_test,y_train,y_test=train_test_split(training,testing,test_size=0.30,random_state=42)"
   ]
  },
  {
   "cell_type": "code",
   "execution_count": 12,
   "id": "efdf39f0-aa99-4ca9-9235-15095ebc15ca",
   "metadata": {},
   "outputs": [
    {
     "data": {
      "text/html": [
       "<table class=\"simpletable\">\n",
       "<caption>OLS Regression Results</caption>\n",
       "<tr>\n",
       "  <th>Dep. Variable:</th>            <td>y</td>        <th>  R-squared (uncentered):</th>      <td>   0.891</td>\n",
       "</tr>\n",
       "<tr>\n",
       "  <th>Model:</th>                   <td>OLS</td>       <th>  Adj. R-squared (uncentered):</th> <td>   0.890</td>\n",
       "</tr>\n",
       "<tr>\n",
       "  <th>Method:</th>             <td>Least Squares</td>  <th>  F-statistic:       </th>          <td>   1379.</td>\n",
       "</tr>\n",
       "<tr>\n",
       "  <th>Date:</th>             <td>Wed, 20 Apr 2022</td> <th>  Prob (F-statistic):</th>          <td>3.46e-83</td>\n",
       "</tr>\n",
       "<tr>\n",
       "  <th>Time:</th>                 <td>00:39:51</td>     <th>  Log-Likelihood:    </th>          <td> -261.75</td>\n",
       "</tr>\n",
       "<tr>\n",
       "  <th>No. Observations:</th>      <td>   170</td>      <th>  AIC:               </th>          <td>   525.5</td>\n",
       "</tr>\n",
       "<tr>\n",
       "  <th>Df Residuals:</th>          <td>   169</td>      <th>  BIC:               </th>          <td>   528.6</td>\n",
       "</tr>\n",
       "<tr>\n",
       "  <th>Df Model:</th>              <td>     1</td>      <th>                     </th>              <td> </td>   \n",
       "</tr>\n",
       "<tr>\n",
       "  <th>Covariance Type:</th>      <td>nonrobust</td>    <th>                     </th>              <td> </td>   \n",
       "</tr>\n",
       "</table>\n",
       "<table class=\"simpletable\">\n",
       "<tr>\n",
       "   <td></td>     <th>coef</th>     <th>std err</th>      <th>t</th>      <th>P>|t|</th>  <th>[0.025</th>    <th>0.975]</th>  \n",
       "</tr>\n",
       "<tr>\n",
       "  <th>x1</th> <td>    0.1449</td> <td>    0.004</td> <td>   37.132</td> <td> 0.000</td> <td>    0.137</td> <td>    0.153</td>\n",
       "</tr>\n",
       "</table>\n",
       "<table class=\"simpletable\">\n",
       "<tr>\n",
       "  <th>Omnibus:</th>       <td>25.387</td> <th>  Durbin-Watson:     </th> <td>   2.009</td>\n",
       "</tr>\n",
       "<tr>\n",
       "  <th>Prob(Omnibus):</th> <td> 0.000</td> <th>  Jarque-Bera (JB):  </th> <td>  41.410</td>\n",
       "</tr>\n",
       "<tr>\n",
       "  <th>Skew:</th>          <td>-0.776</td> <th>  Prob(JB):          </th> <td>1.02e-09</td>\n",
       "</tr>\n",
       "<tr>\n",
       "  <th>Kurtosis:</th>      <td> 4.854</td> <th>  Cond. No.          </th> <td>    1.00</td>\n",
       "</tr>\n",
       "</table><br/><br/>Notes:<br/>[1] R² is computed without centering (uncentered) since the model does not contain a constant.<br/>[2] Standard Errors assume that the covariance matrix of the errors is correctly specified."
      ],
      "text/plain": [
       "<class 'statsmodels.iolib.summary.Summary'>\n",
       "\"\"\"\n",
       "                                 OLS Regression Results                                \n",
       "=======================================================================================\n",
       "Dep. Variable:                      y   R-squared (uncentered):                   0.891\n",
       "Model:                            OLS   Adj. R-squared (uncentered):              0.890\n",
       "Method:                 Least Squares   F-statistic:                              1379.\n",
       "Date:                Wed, 20 Apr 2022   Prob (F-statistic):                    3.46e-83\n",
       "Time:                        00:39:51   Log-Likelihood:                         -261.75\n",
       "No. Observations:                 170   AIC:                                      525.5\n",
       "Df Residuals:                     169   BIC:                                      528.6\n",
       "Df Model:                           1                                                  \n",
       "Covariance Type:            nonrobust                                                  \n",
       "==============================================================================\n",
       "                 coef    std err          t      P>|t|      [0.025      0.975]\n",
       "------------------------------------------------------------------------------\n",
       "x1             0.1449      0.004     37.132      0.000       0.137       0.153\n",
       "==============================================================================\n",
       "Omnibus:                       25.387   Durbin-Watson:                   2.009\n",
       "Prob(Omnibus):                  0.000   Jarque-Bera (JB):               41.410\n",
       "Skew:                          -0.776   Prob(JB):                     1.02e-09\n",
       "Kurtosis:                       4.854   Cond. No.                         1.00\n",
       "==============================================================================\n",
       "\n",
       "Notes:\n",
       "[1] R² is computed without centering (uncentered) since the model does not contain a constant.\n",
       "[2] Standard Errors assume that the covariance matrix of the errors is correctly specified.\n",
       "\"\"\""
      ]
     },
     "execution_count": 12,
     "metadata": {},
     "output_type": "execute_result"
    }
   ],
   "source": [
    "from sklearn.tree import DecisionTreeRegressor\n",
    "dtr=DecisionTreeRegressor(random_state=0)\n",
    "dtr.fit(x_train,y_train)\n",
    "\n",
    "import statsmodels.api as sm\n",
    "\n",
    "decision_tree=sm.OLS(dtr.predict(x_train),x_train)\n",
    "model=decision_tree.fit()\n",
    "model.summary()"
   ]
  },
  {
   "cell_type": "code",
   "execution_count": 13,
   "id": "22fc3842-c0e0-4ffb-87a5-bef0449c02c9",
   "metadata": {},
   "outputs": [
    {
     "name": "stdout",
     "output_type": "stream",
     "text": [
      "Train RMSE: 1.1359108762265422\n",
      "Test RMSE: 0.9604923709876836\n"
     ]
    }
   ],
   "source": [
    "mse=np.sqrt(mean_squared_error(y_train, model.predict(x_train)))\n",
    "print(\"Train RMSE:\",mse)\n",
    "mse=np.sqrt(mean_squared_error(y_test, model.predict(x_test)))\n",
    "print(\"Test RMSE:\",mse)"
   ]
  },
  {
   "cell_type": "code",
   "execution_count": null,
   "id": "84c590ac-d1e8-4da4-a21a-5db78caa0b6b",
   "metadata": {},
   "outputs": [],
   "source": []
  }
 ],
 "metadata": {
  "kernelspec": {
   "display_name": "Python 3 (ipykernel)",
   "language": "python",
   "name": "python3"
  },
  "language_info": {
   "codemirror_mode": {
    "name": "ipython",
    "version": 3
   },
   "file_extension": ".py",
   "mimetype": "text/x-python",
   "name": "python",
   "nbconvert_exporter": "python",
   "pygments_lexer": "ipython3",
   "version": "3.10.2"
  }
 },
 "nbformat": 4,
 "nbformat_minor": 5
}
