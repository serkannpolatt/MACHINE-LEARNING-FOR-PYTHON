{
 "cells": [
  {
   "cell_type": "code",
   "execution_count": 6,
   "id": "d9237b5f-9f10-4f5c-8f5a-39ca22bc4a81",
   "metadata": {},
   "outputs": [
    {
     "name": "stdout",
     "output_type": "stream",
     "text": [
      "<class 'pandas.core.frame.DataFrame'>\n",
      "RangeIndex: 10 entries, 0 to 9\n",
      "Data columns (total 2 columns):\n",
      " #   Column  Non-Null Count  Dtype\n",
      "---  ------  --------------  -----\n",
      " 0   0       10 non-null     int64\n",
      " 1   1       10 non-null     int64\n",
      "dtypes: int64(2)\n",
      "memory usage: 288.0 bytes\n",
      "None\n",
      "*********************************************************\n",
      "   0    1\n",
      "0  1  100\n",
      "1  2   80\n",
      "2  3   70\n",
      "3  4   60\n",
      "4  5   50\n",
      "*********************************************************\n",
      "              0          1\n",
      "count  10.00000   10.00000\n",
      "mean    5.50000   46.50000\n",
      "std     3.02765   31.27388\n",
      "min     1.00000    5.00000\n",
      "25%     3.25000   22.50000\n",
      "50%     5.50000   45.00000\n",
      "75%     7.75000   67.50000\n",
      "max    10.00000  100.00000\n"
     ]
    }
   ],
   "source": [
    "import pandas as pd\n",
    "import matplotlib.pyplot as plt\n",
    "import numpy as np\n",
    "import warnings\n",
    "warnings.filterwarnings(\"ignore\")\n",
    "\n",
    "data = pd.read_csv(\"random-forest-regression-dataset.csv\", header=None)\n",
    "print(data.info())\n",
    "print(\"*********************************************************\")\n",
    "print(data.head())\n",
    "print(\"*********************************************************\")\n",
    "print(data.describe())"
   ]
  },
  {
   "cell_type": "code",
   "execution_count": 7,
   "id": "17dbf4c2-8e59-4928-92eb-54bf3b57cf2c",
   "metadata": {},
   "outputs": [],
   "source": [
    "x = data.iloc[:,0].values.reshape(-1,1)\n",
    "y = data.iloc[:,1].values.reshape(-1,1)"
   ]
  },
  {
   "cell_type": "code",
   "execution_count": 8,
   "id": "45b39ea1-2239-43f5-a30d-5118363f29d1",
   "metadata": {},
   "outputs": [
    {
     "name": "stdout",
     "output_type": "stream",
     "text": [
      "7.8 seviyesinde fiyatın ne kadar olduğu:  [22.7]\n"
     ]
    }
   ],
   "source": [
    "from sklearn.ensemble import RandomForestRegressor\n",
    "rf = RandomForestRegressor(n_estimators = 100, random_state= 42) \n",
    "rf.fit(x,y)\n",
    "\n",
    "print(\"7.8 seviyesinde fiyatın ne kadar olduğu: \",rf.predict(np.array([7.8]).reshape(-1,1)))\n",
    "\n",
    "x_ = np.arange(min(x),max(x),0.01).reshape(-1,1)\n",
    "y_head = rf.predict(x_)"
   ]
  },
  {
   "cell_type": "code",
   "execution_count": 9,
   "id": "9bdae5b9-c717-4ab4-9e82-01bc36904ea3",
   "metadata": {},
   "outputs": [
    {
     "data": {
      "image/png": "[encoded data removed]",
      "text/plain": [
       "<Figure size 432x288 with 1 Axes>"
      ]
     },
     "metadata": {
      "needs_background": "light"
     },
     "output_type": "display_data"
    }
   ],
   "source": [
    "# visualize\n",
    "plt.scatter(x,y,color=\"red\")\n",
    "plt.plot(x_,y_head,color=\"green\")\n",
    "plt.xlabel(\"tribun level\")\n",
    "plt.ylabel(\"ucret\")\n",
    "plt.show()"
   ]
  },
  {
   "cell_type": "code",
   "execution_count": 10,
   "id": "176036dc-e4f2-47da-8674-6d0f9a1565a4",
   "metadata": {},
   "outputs": [
    {
     "name": "stdout",
     "output_type": "stream",
     "text": [
      "r_score:  0.9798724794092587\n"
     ]
    }
   ],
   "source": [
    "y_head = rf.predict(x)\n",
    "from sklearn.metrics import r2_score\n",
    "print(\"r_score: \", r2_score(y,y_head))"
   ]
  },
  {
   "cell_type": "code",
   "execution_count": 11,
   "id": "3934fa2e-2c09-4a32-be12-10f08f37e2a0",
   "metadata": {},
   "outputs": [],
   "source": [
    "import seaborn as sns\n",
    "import pandas as pd\n",
    "import matplotlib.pyplot as plt\n",
    "import numpy as np\n",
    "\n",
    "\n",
    "data=sns.load_dataset(\"tips\")\n",
    "df=pd.DataFrame(data)\n",
    "\n",
    "#EKSİK VERİ DOLDURMA\n",
    "from sklearn.impute import SimpleImputer\n",
    "import numpy as np\n",
    "\n",
    "imputer=SimpleImputer(missing_values=np.nan, strategy=\"mean\") #eksik verileri boş sütünlarına ortalamasını verdik\n",
    "imputer=imputer.fit(df[[\"total_bill\"]])\n",
    "df[[\"total_bill\"]]=imputer.transform(df[[\"total_bill\"]])\n",
    "\n",
    "#KATEGORİK OLMAYAN DEĞİŞKENLER\n",
    "total_bill=df[[\"total_bill\"]]\n",
    "tip=df[[\"tip\"]]\n",
    "size=df[[\"size\"]]\n",
    "\n",
    "#KATEGORİK DEĞİŞKENLER\n",
    "\n",
    "import pandas as pd\n",
    "smoker=pd.get_dummies(df[[\"smoker\"]])\n",
    "time=pd.get_dummies(df[[\"day\"]])\n",
    "\n",
    "result=df[\"day\"].value_counts()\n",
    "\n",
    "#KUKLA (DUMMIES) DEĞİŞKENİNİ KALDIRMA\n",
    "smoker=smoker.drop(\"smoker_Yes\",axis=1)\n",
    "\n",
    "#VERİLERİ BİRLEŞTİRME\n",
    "new_data=pd.concat([total_bill,size,smoker,time,tip],axis=1) # tahmin etmek istedğiniz değeri sona koyun train test split için kolaylık sağlar\n",
    "\n",
    "#TRAİN VE TEST BELİRLEME\n",
    "training=new_data.iloc[:,0:1].values # 7 ye kadarkı stunlar train için\n",
    "testing=new_data.iloc[:,7:8].values\n",
    "\n",
    "#TRAİN VE TEST AYIRMA\n",
    "from sklearn.model_selection import train_test_split\n",
    "x_train,x_test,y_train,y_test=train_test_split(training,testing,test_size=0.30,random_state=42)"
   ]
  },
  {
   "cell_type": "code",
   "execution_count": 12,
   "id": "e84c5310-364c-4c15-b940-30f761dd046c",
   "metadata": {},
   "outputs": [],
   "source": [
    "from sklearn.svm import SVR"
   ]
  },
  {
   "cell_type": "code",
   "execution_count": 13,
   "id": "6c04c08c-da82-4c4f-9965-e3a8cb21a183",
   "metadata": {},
   "outputs": [
    {
     "data": {
      "text/plain": [
       "SVR()"
      ]
     },
     "execution_count": 13,
     "metadata": {},
     "output_type": "execute_result"
    }
   ],
   "source": [
    "svr_model = SVR()\n",
    "svr_model.fit(x_train,y_train)"
   ]
  },
  {
   "cell_type": "code",
   "execution_count": 14,
   "id": "1e0d1577-418b-46f8-8ede-5bcc4bb410c7",
   "metadata": {},
   "outputs": [
    {
     "name": "stdout",
     "output_type": "stream",
     "text": [
      "---------------------------\n",
      "İlk Ortalama Karekök 0.8808550106731795\n",
      "---------------------------\n",
      "İlk R2 Değeri: 0.41138528809714914\n"
     ]
    }
   ],
   "source": [
    "from sklearn.metrics import mean_squared_error,r2_score\n",
    "\n",
    "y_pred = svr_model.predict(x_test)\n",
    "r2=r2_score(y_test,y_pred)\n",
    "\n",
    "mse=np.sqrt(mean_squared_error(y_test,y_pred))\n",
    "\n",
    "print(\"---------------------------\")\n",
    "print(\"İlk Ortalama Karekök\",mse)\n",
    "print(\"---------------------------\")\n",
    "print(\"İlk R2 Değeri:\",r2)"
   ]
  },
  {
   "cell_type": "code",
   "execution_count": null,
   "id": "64fa1cdd-63c7-4cff-8025-fea06f16f135",
   "metadata": {},
   "outputs": [],
   "source": []
  }
 ],
 "metadata": {
  "kernelspec": {
   "display_name": "Python 3 (ipykernel)",
   "language": "python",
   "name": "python3"
  },
  "language_info": {
   "codemirror_mode": {
    "name": "ipython",
    "version": 3
   },
   "file_extension": ".py",
   "mimetype": "text/x-python",
   "name": "python",
   "nbconvert_exporter": "python",
   "pygments_lexer": "ipython3",
   "version": "3.10.2"
  }
 },
 "nbformat": 4,
 "nbformat_minor": 5
}
