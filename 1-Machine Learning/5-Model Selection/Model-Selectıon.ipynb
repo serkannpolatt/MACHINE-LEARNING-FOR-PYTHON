{
 "cells": [
  {
   "cell_type": "code",
   "execution_count": 7,
   "id": "31f7d2df-4b3f-46e7-952c-e4b2942d2a0b",
   "metadata": {},
   "outputs": [
    {
     "name": "stdout",
     "output_type": "stream",
     "text": [
      "<class 'pandas.core.frame.DataFrame'>\n",
      "RangeIndex: 150 entries, 0 to 149\n",
      "Data columns (total 5 columns):\n",
      " #   Column             Non-Null Count  Dtype  \n",
      "---  ------             --------------  -----  \n",
      " 0   sepal length (cm)  150 non-null    float64\n",
      " 1   sepal width (cm)   150 non-null    float64\n",
      " 2   petal length (cm)  150 non-null    float64\n",
      " 3   petal width (cm)   150 non-null    float64\n",
      " 4   sinif              150 non-null    int32  \n",
      "dtypes: float64(4), int32(1)\n",
      "memory usage: 5.4 KB\n",
      "None\n",
      "   sepal length (cm)  sepal width (cm)  petal length (cm)  petal width (cm)  \\\n",
      "0                5.1               3.5                1.4               0.2   \n",
      "1                4.9               3.0                1.4               0.2   \n",
      "2                4.7               3.2                1.3               0.2   \n",
      "3                4.6               3.1                1.5               0.2   \n",
      "4                5.0               3.6                1.4               0.2   \n",
      "\n",
      "   sinif  \n",
      "0      0  \n",
      "1      0  \n",
      "2      0  \n",
      "3      0  \n",
      "4      0  \n"
     ]
    }
   ],
   "source": [
    "from sklearn.datasets import load_iris\n",
    "import pandas as pd\n",
    "import warnings\n",
    "warnings.filterwarnings(\"ignore\")\n",
    "# %%\n",
    "iris = load_iris()\n",
    "\n",
    "feature_names = iris.feature_names\n",
    "y = iris.target\n",
    "\n",
    "data = pd.DataFrame(iris.data,columns = feature_names)\n",
    "data[\"sinif\"] = y\n",
    "\n",
    "x = iris.data\n",
    "print(data.info())\n",
    "print(data.head())\n",
    "#print(data.describe())"
   ]
  },
  {
   "cell_type": "code",
   "execution_count": 8,
   "id": "885809dd-9f6e-4f57-a174-68b8c143336c",
   "metadata": {},
   "outputs": [
    {
     "name": "stdout",
     "output_type": "stream",
     "text": [
      "average accuracy:  0.9718181818181819\n",
      "average std:  0.05925850359175367\n",
      "test accuracy:  0.9777777777777777\n"
     ]
    }
   ],
   "source": [
    "# %% train test split\n",
    "from sklearn.model_selection import train_test_split\n",
    "x_train, x_test, y_train, y_test = train_test_split(x,y,test_size = 0.3)\n",
    "\n",
    "# knn model\n",
    "from sklearn.neighbors import KNeighborsClassifier\n",
    "knn = KNeighborsClassifier(n_neighbors = 13) # n_neighbors = k\n",
    "\n",
    "# %% K fold CV K = 10\n",
    "from sklearn.model_selection import cross_val_score\n",
    "accuracies = cross_val_score(estimator = knn, X = x_train, y= y_train, cv = 10)\n",
    "print(\"average accuracy: \",np.mean(accuracies))\n",
    "print(\"average std: \",np.std(accuracies))\n",
    "\n",
    "knn.fit(x_train,y_train)\n",
    "print(\"test accuracy: \",knn.score(x_test,y_test))"
   ]
  },
  {
   "cell_type": "code",
   "execution_count": 9,
   "id": "2dfa797a-e380-44c8-bdf7-9d760e894e3d",
   "metadata": {},
   "outputs": [
    {
     "name": "stdout",
     "output_type": "stream",
     "text": [
      "tuned hyperparameter K:  {'n_neighbors': 13}\n",
      "tuned parametreye gore en iyi accuracy (best score):  0.9800000000000001\n"
     ]
    }
   ],
   "source": [
    "#Model Selection  grid search cross validation for knn\n",
    "from sklearn.model_selection import GridSearchCV\n",
    "\n",
    "grid = {\"n_neighbors\":np.arange(1,50)}\n",
    "knn= KNeighborsClassifier()\n",
    "\n",
    "knn_cv = GridSearchCV(knn, grid, cv = 10)  # GridSearchCV\n",
    "knn_cv.fit(x,y)\n",
    "\n",
    "#%% print hyperparameter KNN algoritmasindaki K degeri\n",
    "print(\"tuned hyperparameter K: \",knn_cv.best_params_)\n",
    "print(\"tuned parametreye gore en iyi accuracy (best score): \",knn_cv.best_score_)"
   ]
  },
  {
   "cell_type": "code",
   "execution_count": 10,
   "id": "69ad1fa1-8ef4-49b8-8920-a532fff27548",
   "metadata": {},
   "outputs": [
    {
     "name": "stdout",
     "output_type": "stream",
     "text": [
      "tuned hyperparameters: (best parameters):  {'C': 0.001, 'penalty': 'l2'}\n",
      "accuracy:  1.0\n"
     ]
    }
   ],
   "source": [
    "#Model Selection Grid search CV with logistic regression\n",
    "x = x[:100,:]\n",
    "y = y[:100] \n",
    "\n",
    "from sklearn.linear_model import LogisticRegression\n",
    "grid = {\"C\":np.logspace(-3,3,7),\"penalty\":[\"l1\",\"l2\"]}  # l1 = lasso ve l2 = ridge\n",
    "\n",
    "logreg = LogisticRegression()\n",
    "logreg_cv = GridSearchCV(logreg,grid,cv = 10)\n",
    "logreg_cv.fit(x,y)\n",
    "\n",
    "print(\"tuned hyperparameters: (best parameters): \",logreg_cv.best_params_)\n",
    "print(\"accuracy: \",logreg_cv.best_score_)"
   ]
  },
  {
   "cell_type": "code",
   "execution_count": null,
   "id": "b2d481b7-a637-4eb1-84b3-6a0e9d92d0f8",
   "metadata": {},
   "outputs": [],
   "source": []
  },
  {
   "cell_type": "code",
   "execution_count": null,
   "id": "5134f452-3409-4fd8-b6d4-6227c7e8dd98",
   "metadata": {},
   "outputs": [],
   "source": []
  }
 ],
 "metadata": {
  "kernelspec": {
   "display_name": "Python 3 (ipykernel)",
   "language": "python",
   "name": "python3"
  },
  "language_info": {
   "codemirror_mode": {
    "name": "ipython",
    "version": 3
   },
   "file_extension": ".py",
   "mimetype": "text/x-python",
   "name": "python",
   "nbconvert_exporter": "python",
   "pygments_lexer": "ipython3",
   "version": "3.10.2"
  }
 },
 "nbformat": 4,
 "nbformat_minor": 5
}
