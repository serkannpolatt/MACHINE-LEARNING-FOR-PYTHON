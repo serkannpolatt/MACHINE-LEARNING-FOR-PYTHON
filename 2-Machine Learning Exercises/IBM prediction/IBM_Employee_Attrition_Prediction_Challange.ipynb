{
 "cells": [
  {
   "cell_type": "markdown",
   "metadata": {},
   "source": [
    "# IBM HR Analytics Employee Attrition Modeling "
   ]
  },
  {
   "cell_type": "markdown",
   "metadata": {},
   "source": [
    "    DESCRIPTION\n",
    "\n",
    "IBM is an American MNC operating in around 170 countries with major business vertical as computing, software, and hardware.\n",
    "Attrition is a major risk to service-providing organizations where trained and experienced people are the assets of the company. The organization would like to identify the factors which influence the attrition of employees."
   ]
  },
  {
   "cell_type": "markdown",
   "metadata": {},
   "source": [
    "    Data Dictionary\n",
    "\n",
    "Age: Age of employee\n",
    "\n",
    "Attrition: Employee attrition status\n",
    "\n",
    "Department: Department of work\n",
    "\n",
    "DistanceFromHome\n",
    "Education: 1-Below College; 2- College; 3-Bachelor; 4-Master; 5-Doctor;\n",
    "\n",
    "EducationField\n",
    "EnvironmentSatisfaction: 1-Low; 2-Medium; 3-High; 4-Very High;\n",
    "JobSatisfaction: 1-Low; 2-Medium; 3-High; 4-Very High;\n",
    "\n",
    "MaritalStatus\n",
    "\n",
    "MonthlyIncome\n",
    "\n",
    "NumCompaniesWorked: Number of companies worked prior to IBM\n",
    "WorkLifeBalance: 1-Bad; 2-Good; 3-Better; 4-Best;\n",
    "YearsAtCompany: Current years of service in IBM"
   ]
  },
  {
   "cell_type": "markdown",
   "metadata": {},
   "source": [
    "    Analysis Task:\n",
    "- Import attrition dataset and import libraries such as pandas, matplotlib.pyplot, numpy, and seaborn.\n",
    "- Exploratory data analysis\n",
    "\n",
    "Find the age distribution of employees in IBM\n",
    "\n",
    "Explore attrition by age\n",
    "\n",
    "Explore data for Left employees\n",
    "\n",
    "Find out the distribution of employees by the education field\n",
    "\n",
    "Give a bar chart for the number of married and unmarried employees\n",
    "\n",
    "- Build up a logistic regression model to predict which employees are likely to attrite."
   ]
  },
  {
   "cell_type": "code",
   "execution_count": 2,
   "metadata": {},
   "outputs": [],
   "source": [
    "#Write Code Here"
   ]
  }
 ],
 "metadata": {
  "kernelspec": {
   "display_name": "Python 3 (ipykernel)",
   "language": "python",
   "name": "python3"
  },
  "language_info": {
   "codemirror_mode": {
    "name": "ipython",
    "version": 3
   },
   "file_extension": ".py",
   "mimetype": "text/x-python",
   "name": "python",
   "nbconvert_exporter": "python",
   "pygments_lexer": "ipython3",
   "version": "3.10.2"
  }
 },
 "nbformat": 4,
 "nbformat_minor": 2
}
