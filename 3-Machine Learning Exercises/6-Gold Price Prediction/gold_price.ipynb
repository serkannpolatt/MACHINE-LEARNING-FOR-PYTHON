{
 "cells": [
  {
   "cell_type": "code",
   "execution_count": 13,
   "id": "99edc159-6920-4cdd-b12d-3e8bf75a358f",
   "metadata": {},
   "outputs": [],
   "source": [
    "import numpy as np\n",
    "import pandas as pd\n",
    "import matplotlib.pyplot as plt\n",
    "import seaborn as sns\n",
    "from sklearn.model_selection import train_test_split\n",
    "from sklearn.ensemble import RandomForestRegressor\n",
    "from sklearn import metrics"
   ]
  },
  {
   "cell_type": "code",
   "execution_count": 2,
   "id": "74a530f2-242e-45e3-af8f-db9a1d3d29bf",
   "metadata": {},
   "outputs": [],
   "source": [
    "data=pd.read_csv(\"gld_price_data.csv\")"
   ]
  },
  {
   "cell_type": "code",
   "execution_count": 4,
   "id": "94b63c89-5fa7-4432-a390-bfc58fc0e488",
   "metadata": {},
   "outputs": [
    {
     "data": {
      "text/html": [
       "<div><div id=73cf34a2-f104-45eb-af05-5dbe9786dea9 style=\"display:none; background-color:#9D6CFF; color:white; width:200px; height:30px; padding-left:5px; border-radius:4px; flex-direction:row; justify-content:space-around; align-items:center;\" onmouseover=\"this.style.backgroundColor='#BA9BF8'\" onmouseout=\"this.style.backgroundColor='#9D6CFF'\" onclick=\"window.commands?.execute('create-mitosheet-from-dataframe-output');\">See Full Dataframe in Mito</div> <script> if (window.commands.hasCommand('create-mitosheet-from-dataframe-output')) document.getElementById('73cf34a2-f104-45eb-af05-5dbe9786dea9').style.display = 'flex' </script> <table border=\"1\" class=\"dataframe\">\n",
       "  <thead>\n",
       "    <tr style=\"text-align: right;\">\n",
       "      <th></th>\n",
       "      <th>Date</th>\n",
       "      <th>SPX</th>\n",
       "      <th>GLD</th>\n",
       "      <th>USO</th>\n",
       "      <th>SLV</th>\n",
       "      <th>EUR/USD</th>\n",
       "    </tr>\n",
       "  </thead>\n",
       "  <tbody>\n",
       "    <tr>\n",
       "      <th>0</th>\n",
       "      <td>1/2/2008</td>\n",
       "      <td>1447.160034</td>\n",
       "      <td>84.860001</td>\n",
       "      <td>78.470001</td>\n",
       "      <td>15.180</td>\n",
       "      <td>1.471692</td>\n",
       "    </tr>\n",
       "    <tr>\n",
       "      <th>1</th>\n",
       "      <td>1/3/2008</td>\n",
       "      <td>1447.160034</td>\n",
       "      <td>85.570000</td>\n",
       "      <td>78.370003</td>\n",
       "      <td>15.285</td>\n",
       "      <td>1.474491</td>\n",
       "    </tr>\n",
       "    <tr>\n",
       "      <th>2</th>\n",
       "      <td>1/4/2008</td>\n",
       "      <td>1411.630005</td>\n",
       "      <td>85.129997</td>\n",
       "      <td>77.309998</td>\n",
       "      <td>15.167</td>\n",
       "      <td>1.475492</td>\n",
       "    </tr>\n",
       "    <tr>\n",
       "      <th>3</th>\n",
       "      <td>1/7/2008</td>\n",
       "      <td>1416.180054</td>\n",
       "      <td>84.769997</td>\n",
       "      <td>75.500000</td>\n",
       "      <td>15.053</td>\n",
       "      <td>1.468299</td>\n",
       "    </tr>\n",
       "    <tr>\n",
       "      <th>4</th>\n",
       "      <td>1/8/2008</td>\n",
       "      <td>1390.189941</td>\n",
       "      <td>86.779999</td>\n",
       "      <td>76.059998</td>\n",
       "      <td>15.590</td>\n",
       "      <td>1.557099</td>\n",
       "    </tr>\n",
       "  </tbody>\n",
       "</table></div>"
      ],
      "text/plain": [
       "       Date          SPX        GLD        USO     SLV   EUR/USD\n",
       "0  1/2/2008  1447.160034  84.860001  78.470001  15.180  1.471692\n",
       "1  1/3/2008  1447.160034  85.570000  78.370003  15.285  1.474491\n",
       "2  1/4/2008  1411.630005  85.129997  77.309998  15.167  1.475492\n",
       "3  1/7/2008  1416.180054  84.769997  75.500000  15.053  1.468299\n",
       "4  1/8/2008  1390.189941  86.779999  76.059998  15.590  1.557099"
      ]
     },
     "execution_count": 4,
     "metadata": {},
     "output_type": "execute_result"
    }
   ],
   "source": [
    "# print first 5 rows in the dataframe\n",
    "data.head()"
   ]
  },
  {
   "cell_type": "code",
   "execution_count": 5,
   "id": "e01d47d3-c6a7-4236-be66-c17146812d7a",
   "metadata": {},
   "outputs": [
    {
     "data": {
      "text/html": [
       "<div><div id=a2dc4122-0fb2-4c39-9564-569cdac474be style=\"display:none; background-color:#9D6CFF; color:white; width:200px; height:30px; padding-left:5px; border-radius:4px; flex-direction:row; justify-content:space-around; align-items:center;\" onmouseover=\"this.style.backgroundColor='#BA9BF8'\" onmouseout=\"this.style.backgroundColor='#9D6CFF'\" onclick=\"window.commands?.execute('create-mitosheet-from-dataframe-output');\">See Full Dataframe in Mito</div> <script> if (window.commands.hasCommand('create-mitosheet-from-dataframe-output')) document.getElementById('a2dc4122-0fb2-4c39-9564-569cdac474be').style.display = 'flex' </script> <table border=\"1\" class=\"dataframe\">\n",
       "  <thead>\n",
       "    <tr style=\"text-align: right;\">\n",
       "      <th></th>\n",
       "      <th>Date</th>\n",
       "      <th>SPX</th>\n",
       "      <th>GLD</th>\n",
       "      <th>USO</th>\n",
       "      <th>SLV</th>\n",
       "      <th>EUR/USD</th>\n",
       "    </tr>\n",
       "  </thead>\n",
       "  <tbody>\n",
       "    <tr>\n",
       "      <th>2285</th>\n",
       "      <td>5/8/2018</td>\n",
       "      <td>2671.919922</td>\n",
       "      <td>124.589996</td>\n",
       "      <td>14.0600</td>\n",
       "      <td>15.5100</td>\n",
       "      <td>1.186789</td>\n",
       "    </tr>\n",
       "    <tr>\n",
       "      <th>2286</th>\n",
       "      <td>5/9/2018</td>\n",
       "      <td>2697.790039</td>\n",
       "      <td>124.330002</td>\n",
       "      <td>14.3700</td>\n",
       "      <td>15.5300</td>\n",
       "      <td>1.184722</td>\n",
       "    </tr>\n",
       "    <tr>\n",
       "      <th>2287</th>\n",
       "      <td>5/10/2018</td>\n",
       "      <td>2723.070068</td>\n",
       "      <td>125.180000</td>\n",
       "      <td>14.4100</td>\n",
       "      <td>15.7400</td>\n",
       "      <td>1.191753</td>\n",
       "    </tr>\n",
       "    <tr>\n",
       "      <th>2288</th>\n",
       "      <td>5/14/2018</td>\n",
       "      <td>2730.129883</td>\n",
       "      <td>124.489998</td>\n",
       "      <td>14.3800</td>\n",
       "      <td>15.5600</td>\n",
       "      <td>1.193118</td>\n",
       "    </tr>\n",
       "    <tr>\n",
       "      <th>2289</th>\n",
       "      <td>5/16/2018</td>\n",
       "      <td>2725.780029</td>\n",
       "      <td>122.543800</td>\n",
       "      <td>14.4058</td>\n",
       "      <td>15.4542</td>\n",
       "      <td>1.182033</td>\n",
       "    </tr>\n",
       "  </tbody>\n",
       "</table></div>"
      ],
      "text/plain": [
       "           Date          SPX         GLD      USO      SLV   EUR/USD\n",
       "2285   5/8/2018  2671.919922  124.589996  14.0600  15.5100  1.186789\n",
       "2286   5/9/2018  2697.790039  124.330002  14.3700  15.5300  1.184722\n",
       "2287  5/10/2018  2723.070068  125.180000  14.4100  15.7400  1.191753\n",
       "2288  5/14/2018  2730.129883  124.489998  14.3800  15.5600  1.193118\n",
       "2289  5/16/2018  2725.780029  122.543800  14.4058  15.4542  1.182033"
      ]
     },
     "execution_count": 5,
     "metadata": {},
     "output_type": "execute_result"
    }
   ],
   "source": [
    "# print last 5 rows of the dataframe\n",
    "data.tail()"
   ]
  },
  {
   "cell_type": "code",
   "execution_count": 6,
   "id": "ab3d9b12-3d5b-4710-97c1-474ffe83b748",
   "metadata": {},
   "outputs": [
    {
     "data": {
      "text/plain": [
       "(2290, 6)"
      ]
     },
     "execution_count": 6,
     "metadata": {},
     "output_type": "execute_result"
    }
   ],
   "source": [
    "# number of rows and columns\n",
    "data.shape"
   ]
  },
  {
   "cell_type": "code",
   "execution_count": 38,
   "id": "159b8a54-f93d-49cd-ba43-986b0e86da7a",
   "metadata": {},
   "outputs": [
    {
     "data": {
      "text/plain": [
       "Date       0\n",
       "SPX        0\n",
       "GLD        0\n",
       "USO        0\n",
       "SLV        0\n",
       "EUR/USD    0\n",
       "dtype: int64"
      ]
     },
     "execution_count": 38,
     "metadata": {},
     "output_type": "execute_result"
    }
   ],
   "source": [
    "# checking the number of missing values\n",
    "# eksik değerlerin sayısının kontrol edilmesi\n",
    "data.isnull().sum()"
   ]
  },
  {
   "cell_type": "code",
   "execution_count": 37,
   "id": "81b85133-52bd-4cff-9143-4ced7d1cc1c3",
   "metadata": {},
   "outputs": [
    {
     "data": {
      "text/html": [
       "<div><div id=7c543539-7ad2-41cd-9f51-0994a63295b0 style=\"display:none; background-color:#9D6CFF; color:white; width:200px; height:30px; padding-left:5px; border-radius:4px; flex-direction:row; justify-content:space-around; align-items:center;\" onmouseover=\"this.style.backgroundColor='#BA9BF8'\" onmouseout=\"this.style.backgroundColor='#9D6CFF'\" onclick=\"window.commands?.execute('create-mitosheet-from-dataframe-output');\">See Full Dataframe in Mito</div> <script> if (window.commands.hasCommand('create-mitosheet-from-dataframe-output')) document.getElementById('7c543539-7ad2-41cd-9f51-0994a63295b0').style.display = 'flex' </script> <table border=\"1\" class=\"dataframe\">\n",
       "  <thead>\n",
       "    <tr style=\"text-align: right;\">\n",
       "      <th></th>\n",
       "      <th>SPX</th>\n",
       "      <th>GLD</th>\n",
       "      <th>USO</th>\n",
       "      <th>SLV</th>\n",
       "      <th>EUR/USD</th>\n",
       "    </tr>\n",
       "  </thead>\n",
       "  <tbody>\n",
       "    <tr>\n",
       "      <th>count</th>\n",
       "      <td>2290.000000</td>\n",
       "      <td>2290.000000</td>\n",
       "      <td>2290.000000</td>\n",
       "      <td>2290.000000</td>\n",
       "      <td>2290.000000</td>\n",
       "    </tr>\n",
       "    <tr>\n",
       "      <th>mean</th>\n",
       "      <td>1654.315776</td>\n",
       "      <td>122.732875</td>\n",
       "      <td>31.842221</td>\n",
       "      <td>20.084997</td>\n",
       "      <td>1.283653</td>\n",
       "    </tr>\n",
       "    <tr>\n",
       "      <th>std</th>\n",
       "      <td>519.111540</td>\n",
       "      <td>23.283346</td>\n",
       "      <td>19.523517</td>\n",
       "      <td>7.092566</td>\n",
       "      <td>0.131547</td>\n",
       "    </tr>\n",
       "    <tr>\n",
       "      <th>min</th>\n",
       "      <td>676.530029</td>\n",
       "      <td>70.000000</td>\n",
       "      <td>7.960000</td>\n",
       "      <td>8.850000</td>\n",
       "      <td>1.039047</td>\n",
       "    </tr>\n",
       "    <tr>\n",
       "      <th>25%</th>\n",
       "      <td>1239.874969</td>\n",
       "      <td>109.725000</td>\n",
       "      <td>14.380000</td>\n",
       "      <td>15.570000</td>\n",
       "      <td>1.171313</td>\n",
       "    </tr>\n",
       "    <tr>\n",
       "      <th>50%</th>\n",
       "      <td>1551.434998</td>\n",
       "      <td>120.580002</td>\n",
       "      <td>33.869999</td>\n",
       "      <td>17.268500</td>\n",
       "      <td>1.303297</td>\n",
       "    </tr>\n",
       "    <tr>\n",
       "      <th>75%</th>\n",
       "      <td>2073.010070</td>\n",
       "      <td>132.840004</td>\n",
       "      <td>37.827501</td>\n",
       "      <td>22.882500</td>\n",
       "      <td>1.369971</td>\n",
       "    </tr>\n",
       "    <tr>\n",
       "      <th>max</th>\n",
       "      <td>2872.870117</td>\n",
       "      <td>184.589996</td>\n",
       "      <td>117.480003</td>\n",
       "      <td>47.259998</td>\n",
       "      <td>1.598798</td>\n",
       "    </tr>\n",
       "  </tbody>\n",
       "</table></div>"
      ],
      "text/plain": [
       "               SPX          GLD          USO          SLV      EUR/USD\n",
       "count  2290.000000  2290.000000  2290.000000  2290.000000  2290.000000\n",
       "mean   1654.315776   122.732875    31.842221    20.084997     1.283653\n",
       "std     519.111540    23.283346    19.523517     7.092566     0.131547\n",
       "min     676.530029    70.000000     7.960000     8.850000     1.039047\n",
       "25%    1239.874969   109.725000    14.380000    15.570000     1.171313\n",
       "50%    1551.434998   120.580002    33.869999    17.268500     1.303297\n",
       "75%    2073.010070   132.840004    37.827501    22.882500     1.369971\n",
       "max    2872.870117   184.589996   117.480003    47.259998     1.598798"
      ]
     },
     "execution_count": 37,
     "metadata": {},
     "output_type": "execute_result"
    }
   ],
   "source": [
    "# getting the statistical measures of the data\n",
    "# verilerin istatistiksel ölçülerini alma\n",
    "data.describe()"
   ]
  },
  {
   "cell_type": "markdown",
   "id": "61770213-494b-47e2-8bfc-d111c70e0a8b",
   "metadata": {},
   "source": [
    "Correlation:\n",
    "\n",
    "1-Positive Correlation\n",
    "2-Negative Correlation"
   ]
  },
  {
   "cell_type": "code",
   "execution_count": 11,
   "id": "2e6d0bcf-86c7-4b2b-9267-7da778a98e29",
   "metadata": {},
   "outputs": [],
   "source": [
    "correlation = data.corr()"
   ]
  },
  {
   "cell_type": "code",
   "execution_count": 36,
   "id": "3a994b3c-b073-4e65-9fa4-7ca8f16e46f6",
   "metadata": {},
   "outputs": [
    {
     "data": {
      "text/plain": [
       "<AxesSubplot:>"
      ]
     },
     "execution_count": 36,
     "metadata": {},
     "output_type": "execute_result"
    },
    {
     "data": {
      "image/png": "[encoded data removed]",
      "text/plain": [
       "<Figure size 576x576 with 2 Axes>"
      ]
     },
     "metadata": {
      "needs_background": "light"
     },
     "output_type": "display_data"
    }
   ],
   "source": [
    "# constructing a heatmap to understand the correlatiom\n",
    "# korelasyonu anlamak için bir ısı haritası oluşturma\n",
    "plt.figure(figsize = (8,8))\n",
    "sns.heatmap(correlation, cbar=True, square=True, fmt='.1f',annot=True, annot_kws={'size':8}, cmap='Blues')"
   ]
  },
  {
   "cell_type": "code",
   "execution_count": 34,
   "id": "ef5e519c-bb26-4997-aa09-4ec9694aff67",
   "metadata": {},
   "outputs": [
    {
     "name": "stdout",
     "output_type": "stream",
     "text": [
      "SPX        0.049345\n",
      "GLD        1.000000\n",
      "USO       -0.186360\n",
      "SLV        0.866632\n",
      "EUR/USD   -0.024375\n",
      "Name: GLD, dtype: float64\n"
     ]
    }
   ],
   "source": [
    "# correlation values of GLD\n",
    "# GLD'nin korelasyon değerleri\n",
    "print(correlation['GLD'])"
   ]
  },
  {
   "cell_type": "code",
   "execution_count": 35,
   "id": "ef718dad-6107-4ecf-9e7f-be2477a5b233",
   "metadata": {},
   "outputs": [
    {
     "name": "stderr",
     "output_type": "stream",
     "text": [
      "C:\\Users\\SERKAN\\AppData\\Local\\Programs\\Python\\Python310\\lib\\site-packages\\seaborn\\distributions.py:2619: FutureWarning: `distplot` is a deprecated function and will be removed in a future version. Please adapt your code to use either `displot` (a figure-level function with similar flexibility) or `histplot` (an axes-level function for histograms).\n",
      "  warnings.warn(msg, FutureWarning)\n"
     ]
    },
    {
     "data": {
      "text/plain": [
       "<AxesSubplot:xlabel='GLD', ylabel='Density'>"
      ]
     },
     "execution_count": 35,
     "metadata": {},
     "output_type": "execute_result"
    },
    {
     "data": {
      "image/png": "[encoded data removed]",
      "text/plain": [
       "<Figure size 432x288 with 1 Axes>"
      ]
     },
     "metadata": {
      "needs_background": "light"
     },
     "output_type": "display_data"
    }
   ],
   "source": [
    "# checking the distribution of the GLD Price\n",
    "# GLD Fiyatının dağılımının kontrol edilmesi\n",
    "sns.distplot(data['GLD'],color='green')"
   ]
  },
  {
   "cell_type": "markdown",
   "id": "7a4bc772-d7e9-4159-917c-c93ba387b570",
   "metadata": {},
   "source": [
    "Splitting the Features and Target\n",
    "\n",
    "Özellikleri ve Hedefi Bölme"
   ]
  },
  {
   "cell_type": "code",
   "execution_count": 20,
   "id": "2e897640-9633-4545-8a2e-324515d6fe37",
   "metadata": {},
   "outputs": [],
   "source": [
    "X = data.drop(['Date','GLD'],axis=1)\n",
    "Y = data['GLD']"
   ]
  },
  {
   "cell_type": "code",
   "execution_count": 21,
   "id": "a819e892-1057-4848-8ee7-3a9e58df8101",
   "metadata": {},
   "outputs": [
    {
     "name": "stdout",
     "output_type": "stream",
     "text": [
      "              SPX        USO      SLV   EUR/USD\n",
      "0     1447.160034  78.470001  15.1800  1.471692\n",
      "1     1447.160034  78.370003  15.2850  1.474491\n",
      "2     1411.630005  77.309998  15.1670  1.475492\n",
      "3     1416.180054  75.500000  15.0530  1.468299\n",
      "4     1390.189941  76.059998  15.5900  1.557099\n",
      "...           ...        ...      ...       ...\n",
      "2285  2671.919922  14.060000  15.5100  1.186789\n",
      "2286  2697.790039  14.370000  15.5300  1.184722\n",
      "2287  2723.070068  14.410000  15.7400  1.191753\n",
      "2288  2730.129883  14.380000  15.5600  1.193118\n",
      "2289  2725.780029  14.405800  15.4542  1.182033\n",
      "\n",
      "[2290 rows x 4 columns]\n"
     ]
    }
   ],
   "source": [
    "print(X)"
   ]
  },
  {
   "cell_type": "code",
   "execution_count": 22,
   "id": "de56f340-6ef1-4916-8d2e-6da9ac8ddb6a",
   "metadata": {},
   "outputs": [
    {
     "name": "stdout",
     "output_type": "stream",
     "text": [
      "0        84.860001\n",
      "1        85.570000\n",
      "2        85.129997\n",
      "3        84.769997\n",
      "4        86.779999\n",
      "           ...    \n",
      "2285    124.589996\n",
      "2286    124.330002\n",
      "2287    125.180000\n",
      "2288    124.489998\n",
      "2289    122.543800\n",
      "Name: GLD, Length: 2290, dtype: float64\n"
     ]
    }
   ],
   "source": [
    "print(Y)"
   ]
  },
  {
   "cell_type": "markdown",
   "id": "069bc2e0-e6f2-4207-8c20-72b6ce80be14",
   "metadata": {},
   "source": [
    "Splitting into Training data and Test Data\n",
    "\n",
    "Eğitim Verileri ve Test Verilerine Bölme"
   ]
  },
  {
   "cell_type": "code",
   "execution_count": 23,
   "id": "c070ce33-ef2c-47a3-8476-418cbc5eb30c",
   "metadata": {},
   "outputs": [],
   "source": [
    "X_train, X_test, Y_train, Y_test = train_test_split(X, Y, test_size = 0.2, random_state=2)"
   ]
  },
  {
   "cell_type": "markdown",
   "id": "d7ef7f96-0d43-4581-9091-13b48882b275",
   "metadata": {},
   "source": [
    "Model Training: Random Forest Regressor\n",
    "\n",
    "Model Eğitimi: Rastgele Orman Regresyonu"
   ]
  },
  {
   "cell_type": "code",
   "execution_count": 24,
   "id": "efcc31d1-d8cf-4315-b1bb-3a7ee9ef4cc2",
   "metadata": {},
   "outputs": [],
   "source": [
    "regressor = RandomForestRegressor(n_estimators=100)"
   ]
  },
  {
   "cell_type": "code",
   "execution_count": 33,
   "id": "fbbc0911-3388-4126-a577-1652a1e69e73",
   "metadata": {},
   "outputs": [
    {
     "data": {
      "text/plain": [
       "RandomForestRegressor()"
      ]
     },
     "execution_count": 33,
     "metadata": {},
     "output_type": "execute_result"
    }
   ],
   "source": [
    "# training the model\n",
    "# modeli eğit\n",
    "regressor.fit(X_train,Y_train)"
   ]
  },
  {
   "cell_type": "markdown",
   "id": "da9defab-2046-4508-bb32-6f614d7ebf89",
   "metadata": {},
   "source": [
    "Model Evaluation"
   ]
  },
  {
   "cell_type": "code",
   "execution_count": 32,
   "id": "7bb0597a-32c0-4abc-ab90-9502f5344111",
   "metadata": {},
   "outputs": [],
   "source": [
    "# prediction on Test Data\n",
    "# data tahmin et \n",
    "test_data_prediction = regressor.predict(X_test)"
   ]
  },
  {
   "cell_type": "code",
   "execution_count": 27,
   "id": "a29b1181-33f1-4672-9ed8-c4fdc40d79be",
   "metadata": {
    "collapsed": true,
    "jupyter": {
     "outputs_hidden": true
    },
    "tags": []
   },
   "outputs": [
    {
     "name": "stdout",
     "output_type": "stream",
     "text": [
      "[168.60299915  82.24709984 115.78430046 127.7607007  120.8510013\n",
      " 154.69869808 150.45679924 126.02850042 117.48639878 126.00420071\n",
      " 116.9110008  172.47950088 141.49969827 168.08549862 115.15990014\n",
      " 117.82760052 138.72950302 170.34180077 158.64640277 160.28569953\n",
      " 155.23040063 125.02189995 175.89209973 156.6772037  125.19520032\n",
      "  93.83379976  76.96300034 120.67079978 119.09879937 167.42450028\n",
      "  88.02780014 124.9489001   91.22990072 117.66250005 121.15259893\n",
      " 136.33780048 115.59090116 114.72430052 149.76340011 106.971101\n",
      " 104.70910237  87.28119803 126.41020062 118.02709945 153.53399902\n",
      " 119.90420001 108.24570018 108.41049877  93.13490058 127.1807976\n",
      "  74.64580047 113.57219949 121.27050016 111.28329899 118.90639891\n",
      " 120.3010994  158.71360098 167.49840102 146.9599971   85.77949868\n",
      "  94.30630041  86.75919863  90.43690037 119.09380093 126.48640047\n",
      " 127.47040014 169.63929999 122.21359967 117.35139897  98.61490036\n",
      " 168.69250158 143.25629842 131.94610214 121.10020231 121.48329943\n",
      " 119.77000043 114.22150188 118.29140054 107.08190099 127.93420119\n",
      " 114.12099949 106.60769974 116.89700082 119.66729901  88.63420066\n",
      "  88.22649849 146.75230299 127.3942     113.32480057 110.0721983\n",
      " 108.05609884  77.48639937 169.21850201 114.07819925 121.5778994\n",
      " 128.12710176 155.03189846  91.72369895 136.00010093 159.43620311\n",
      " 125.12130065 125.10300083 130.71810169 114.73220153 119.82660016\n",
      "  92.13719993 110.33929901 167.36359975 157.1673993  114.16819969\n",
      " 106.60250161  79.12419989 113.19910042 125.76120067 107.12679938\n",
      " 119.55930113 155.92230288 159.56039831 120.24449981 135.11970331\n",
      " 101.39380005 117.58199799 119.46840016 112.86940093 102.77749923\n",
      " 160.02929736  98.57320044 146.61069938 125.37930105 169.32059938\n",
      " 125.73179867 127.37919722 127.59390196 113.82299913 113.07900058\n",
      " 123.59659925 102.18969903  88.95860001 124.59199985 102.34719932\n",
      " 107.21049945 113.39700079 117.37670097  99.42220001 121.91190021\n",
      " 163.59479878  87.4451986  106.68800012 117.37720069 127.78290105\n",
      " 124.23860057  80.84049879 120.52210083 158.45199819  88.05629923\n",
      " 110.09749918 118.78449927 172.7674984  102.99319889 105.66490028\n",
      " 122.9639006  158.87329789  87.85419809  93.04270035 112.90740049\n",
      " 177.79499928 114.53849983 119.40849987  94.74470091 125.63840047\n",
      " 165.93400039 114.82000087 117.07460124  88.3491985  148.99640184\n",
      " 120.46529903  89.52879982 111.66400012 117.60230035 118.73690118\n",
      "  87.94099905  94.30679982 117.27430018 118.60620219 120.0869006\n",
      " 126.72499853 121.90960012 148.97589992 165.03810015 118.51319959\n",
      " 120.33910126 151.93020021 118.70119922 172.86549885 105.26209921\n",
      " 104.92060138 149.95860184 113.94530083 124.76190099 147.65250063\n",
      " 119.58900176 115.21970029 112.31990003 113.47720183 142.12540139\n",
      " 118.05519733 102.92940035 115.75740107 104.04320183  98.82260044\n",
      " 117.65730083  90.64720009  91.5919004  153.29899935 102.72959978\n",
      " 154.794401   114.37110153 138.85010108  90.08859856 115.61139901\n",
      " 114.78379957 122.82190036 121.63910026 165.38990145  92.86039968\n",
      " 135.76820178 121.35049921 120.90110065 104.63440025 141.83700322\n",
      " 121.64809922 116.64580041 113.26880107 126.91879823 122.60099975\n",
      " 125.80490003 121.23630029  86.80009897 132.24630119 143.35530212\n",
      "  92.80189952 156.4051     159.02740285 126.34169908 164.69839905\n",
      " 108.77959961 109.46730081 103.56059823  94.43650039 127.44050236\n",
      " 107.00030059 159.03950004 121.89969996 131.70899953 130.74600116\n",
      " 159.2057002   90.02669854 175.62120188 127.41700005 126.69419915\n",
      "  86.28479906 124.60799948 150.76649761  89.61420013 106.8389996\n",
      " 108.95679983  83.9393991  136.48159955 155.11570199 138.66810335\n",
      "  74.34950045 153.23720052 125.94730004 126.75729993 127.54589895\n",
      " 108.59679941 156.52530038 114.40230118 116.96010126 125.3800993\n",
      " 154.09950099 121.09710047 156.38739927  92.98530028 125.59550108\n",
      " 125.81330037  87.92860069  92.13909926 126.09619977 128.20430343\n",
      " 113.1312006  118.14749828 120.92850005 126.9097987  119.50180099\n",
      " 136.17810014  94.07449914 119.98610023 113.23880128  94.42889952\n",
      " 108.93959983  86.38799927 109.03959955  89.80139975  92.40440012\n",
      " 131.72100235 162.19409998  89.57339962 119.7885008  133.34470194\n",
      " 124.01610038 128.20890213 101.97319834  89.05379849 131.81840079\n",
      " 120.11490032 108.59769962 166.5629009  115.24520043  86.52239883\n",
      " 118.86490058  91.04869984 161.96560023 116.81220082 121.4260002\n",
      " 160.28439751 120.05389925 112.7615996  108.43079849 126.75510041\n",
      "  75.97810054 103.02419984 127.40020216 121.89999897  92.53000006\n",
      " 132.25290102 118.2542013  116.07289975 154.38530252 159.21020081\n",
      " 110.09859943 154.14439798 119.38950093 160.39570007 118.88910025\n",
      " 157.9602001  115.23299918 116.58130033 148.81509994 114.62740081\n",
      " 125.27329903 166.12649919 117.73680006 124.85339934 153.33890338\n",
      " 153.45320263 132.17930044 114.73110038 121.13460182 124.96760074\n",
      "  89.65710062 123.26980015 155.43480207 111.56630024 106.61800015\n",
      " 162.22130145 118.57809998 165.68859966 134.16850086 114.80559967\n",
      " 152.97809841 168.67470032 115.12980034 113.89680105 156.9152988\n",
      "  85.3139987  127.06240057 127.81830052 128.93029956 124.09030073\n",
      " 123.75640034  90.59760071 153.10840025  97.11259989 138.00989965\n",
      "  89.30369964 106.68469975 115.02700059 112.43580077 124.36739929\n",
      "  91.41889864 125.39010113 162.31649946 119.97139895 164.87570169\n",
      " 126.69739842 112.52989972 127.47079897  94.96279875  90.79320038\n",
      " 103.56949913 120.86830005  83.02669972 126.33429974 159.64140463\n",
      " 117.32110104 118.32189964 120.02939978 122.68709963 120.08530128\n",
      " 121.7443995  118.37520005 107.01320013 148.64000089 126.1777983\n",
      " 115.6492008   73.70000009 127.86190115 153.86550069 122.63510034\n",
      " 125.57810087  89.15969969 103.25109831 124.60120061 120.34690053\n",
      "  73.14430077 151.96189987 121.24620028 104.83860037  86.34489793\n",
      " 115.12799948 172.20359866 119.85270033 159.44499789 113.20059963\n",
      " 121.01579985 118.7293009   95.93179986 118.7254001  125.85360038\n",
      " 118.45179963  95.63980032 154.2272019  122.06750037 147.54740016\n",
      " 159.25060216 113.91530016 122.65249939 149.41469894 127.11990035\n",
      " 165.66170047 136.16550047 119.77059952 167.42999886 108.30689956\n",
      " 121.74909861 139.73520161 105.86219895]\n"
     ]
    }
   ],
   "source": [
    "print(test_data_prediction)"
   ]
  },
  {
   "cell_type": "code",
   "execution_count": 28,
   "id": "9617f8ad-d282-432c-a475-fa11a1ac1c75",
   "metadata": {},
   "outputs": [
    {
     "name": "stdout",
     "output_type": "stream",
     "text": [
      "R squared error :  0.9894104980229563\n"
     ]
    }
   ],
   "source": [
    "# R squared error\n",
    "error_score = metrics.r2_score(Y_test, test_data_prediction)\n",
    "print(\"R squared error : \", error_score)"
   ]
  },
  {
   "cell_type": "markdown",
   "id": "b7fe42ec-1aca-4d2f-a66a-834eb7fcd2d8",
   "metadata": {},
   "source": [
    "Compare the Actual Values and Predicted Values in a Plot\n",
    "\n",
    "Bir Grafikte Gerçek Değerleri ve Tahmini Değerleri Karşılaştırın"
   ]
  },
  {
   "cell_type": "code",
   "execution_count": 29,
   "id": "79931646-b8e8-40d1-baa8-abf95b2e8f37",
   "metadata": {},
   "outputs": [],
   "source": [
    "Y_test = list(Y_test)"
   ]
  },
  {
   "cell_type": "code",
   "execution_count": 30,
   "id": "7010ff65-1aac-4e26-a29c-ad94d9906376",
   "metadata": {},
   "outputs": [
    {
     "data": {
      "image/png": "[encoded data removed]",
      "text/plain": [
       "<Figure size 432x288 with 1 Axes>"
      ]
     },
     "metadata": {
      "needs_background": "light"
     },
     "output_type": "display_data"
    }
   ],
   "source": [
    "plt.plot(Y_test, color='blue', label = 'Actual Value')\n",
    "plt.plot(test_data_prediction, color='green', label='Predicted Value')\n",
    "plt.title('Actual Price vs Predicted Price')\n",
    "plt.xlabel('Number of values')\n",
    "plt.ylabel('GLD Price')\n",
    "plt.legend()\n",
    "plt.show()"
   ]
  },
  {
   "cell_type": "code",
   "execution_count": null,
   "id": "2bb4d529-43d3-4cb5-9ad4-e5b7144d8cb0",
   "metadata": {},
   "outputs": [],
   "source": []
  }
 ],
 "metadata": {
  "kernelspec": {
   "display_name": "Python 3 (ipykernel)",
   "language": "python",
   "name": "python3"
  },
  "language_info": {
   "codemirror_mode": {
    "name": "ipython",
    "version": 3
   },
   "file_extension": ".py",
   "mimetype": "text/x-python",
   "name": "python",
   "nbconvert_exporter": "python",
   "pygments_lexer": "ipython3",
   "version": "3.10.2"
  }
 },
 "nbformat": 4,
 "nbformat_minor": 5
}
