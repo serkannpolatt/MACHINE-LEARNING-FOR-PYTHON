{
 "cells": [
  {
   "cell_type": "code",
   "execution_count": 6,
   "id": "eed4c168-9343-49ee-a4d4-f64da31c6923",
   "metadata": {},
   "outputs": [],
   "source": [
    "import pandas as pd\n",
    "import matplotlib.pyplot as plt\n",
    "import warnings\n",
    "warnings.filterwarnings(\"ignore\")"
   ]
  },
  {
   "cell_type": "code",
   "execution_count": 7,
   "id": "00dff1d6-dbf3-4a2c-8001-bf32c5221e79",
   "metadata": {},
   "outputs": [],
   "source": [
    "data = pd.read_csv(\"support-vector-regresyon-maaslar.csv\")"
   ]
  },
  {
   "cell_type": "code",
   "execution_count": 8,
   "id": "8dd3a34f-c946-4a49-9759-d4020129cf79",
   "metadata": {},
   "outputs": [
    {
     "name": "stdout",
     "output_type": "stream",
     "text": [
      "<class 'pandas.core.frame.DataFrame'>\n",
      "RangeIndex: 10 entries, 0 to 9\n",
      "Data columns (total 3 columns):\n",
      " #   Column           Non-Null Count  Dtype \n",
      "---  ------           --------------  ----- \n",
      " 0   unvan            10 non-null     object\n",
      " 1   Egitim Seviyesi  10 non-null     int64 \n",
      " 2   maas             10 non-null     int64 \n",
      "dtypes: int64(2), object(1)\n",
      "memory usage: 368.0+ bytes\n",
      "None\n",
      "********************************************************\n",
      "              unvan  Egitim Seviyesi  maas\n",
      "0             Cayci                1  2250\n",
      "1          Sekreter                2  2500\n",
      "2  Uzman Yardimcisi                3  3000\n",
      "3             Uzman                4  4000\n",
      "4  Proje Yoneticisi                5  5500\n",
      "********************************************************\n",
      "       Egitim Seviyesi          maas\n",
      "count         10.00000     10.000000\n",
      "mean           5.50000  12475.000000\n",
      "std            3.02765  14968.694183\n",
      "min            1.00000   2250.000000\n",
      "25%            3.25000   3250.000000\n",
      "50%            5.50000   6500.000000\n",
      "75%            7.75000  13750.000000\n",
      "max           10.00000  50000.000000\n"
     ]
    }
   ],
   "source": [
    "print(data.info())\n",
    "print(\"********************************************************\")\n",
    "print(data.head())\n",
    "print(\"********************************************************\")\n",
    "print(data.describe())"
   ]
  },
  {
   "cell_type": "code",
   "execution_count": 9,
   "id": "6fe95dea-91ec-47dd-b58f-bb0118bb8256",
   "metadata": {},
   "outputs": [
    {
     "data": {
      "image/png": "[encoded data removed]",
      "text/plain": [
       "<Figure size 432x288 with 1 Axes>"
      ]
     },
     "metadata": {
      "needs_background": "light"
     },
     "output_type": "display_data"
    }
   ],
   "source": [
    "x = data.iloc[:,1:2].values\n",
    "y = data.iloc[:,2:].values\n",
    "\n",
    "plt.scatter(x,y)\n",
    "plt.xlabel(\"araba_max_hiz\")\n",
    "plt.ylabel(\"araba_fiyat\")\n",
    "plt.show()"
   ]
  },
  {
   "cell_type": "code",
   "execution_count": 10,
   "id": "8edb62f8-10e9-4b0c-b48c-7a70c22341a0",
   "metadata": {},
   "outputs": [
    {
     "data": {
      "image/png": "[encoded data removed]",
      "text/plain": [
       "<Figure size 432x288 with 1 Axes>"
      ]
     },
     "metadata": {
      "needs_background": "light"
     },
     "output_type": "display_data"
    },
    {
     "name": "stdout",
     "output_type": "stream",
     "text": [
      "R sq:  0.7513836788854973\n"
     ]
    }
   ],
   "source": [
    "#verilerin olceklenmesi\n",
    "from sklearn.preprocessing import StandardScaler\n",
    "sc1 = StandardScaler()\n",
    "x_olcekli = sc1.fit_transform(x)\n",
    "sc2 = StandardScaler()\n",
    "y_olcekli = sc2.fit_transform(y)\n",
    "\n",
    "#%% SVR\n",
    "from sklearn.svm import SVR\n",
    "\n",
    "svr_reg = SVR(kernel = 'rbf')\n",
    "svr_reg.fit(x_olcekli,y_olcekli)\n",
    "\n",
    "y_head = svr_reg.predict(x_olcekli)\n",
    "\n",
    "# visualize line\n",
    "plt.plot(x_olcekli,y_head,color= \"green\",label = \"SVR\")\n",
    "plt.legend()\n",
    "plt.scatter(x_olcekli,y_olcekli,color='red')\n",
    "plt.show()\n",
    "\n",
    "print('R sq: ', svr_reg.score(x_olcekli, y_olcekli))"
   ]
  },
  {
   "cell_type": "code",
   "execution_count": null,
   "id": "284905f4-560f-482f-be59-a6496824feb5",
   "metadata": {},
   "outputs": [],
   "source": []
  }
 ],
 "metadata": {
  "kernelspec": {
   "display_name": "Python 3 (ipykernel)",
   "language": "python",
   "name": "python3"
  },
  "language_info": {
   "codemirror_mode": {
    "name": "ipython",
    "version": 3
   },
   "file_extension": ".py",
   "mimetype": "text/x-python",
   "name": "python",
   "nbconvert_exporter": "python",
   "pygments_lexer": "ipython3",
   "version": "3.10.2"
  }
 },
 "nbformat": 4,
 "nbformat_minor": 5
}
